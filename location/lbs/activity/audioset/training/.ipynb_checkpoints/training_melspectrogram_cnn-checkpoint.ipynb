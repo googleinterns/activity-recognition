{
 "cells": [
  {
   "cell_type": "markdown",
   "metadata": {},
   "source": [
    "## Navigate to the Correct Directory\n",
    "\n",
    "The following code navigates to the dataprocessing directory."
   ]
  },
  {
   "cell_type": "code",
   "execution_count": 7,
   "metadata": {
    "scrolled": false,
    "tags": []
   },
   "outputs": [
    {
     "name": "stdout",
     "output_type": "stream",
     "text": [
      "/usr/local/google/home/carverforbes/activity-recognition/location/lbs/activity/audioset/dataprocessing\n"
     ]
    }
   ],
   "source": [
    "cd ../dataprocessing"
   ]
  },
  {
   "cell_type": "markdown",
   "metadata": {},
   "source": [
    "## Call the Import Statements\n",
    "\n",
    "The following code imports the necessary code to run the code in the rest of this notebook."
   ]
  },
  {
   "cell_type": "code",
   "execution_count": 8,
   "metadata": {
    "tags": []
   },
   "outputs": [
    {
     "name": "stdout",
     "output_type": "stream",
     "text": [
      "Ran the import statements.\n"
     ]
    }
   ],
   "source": [
    "# import statements\n",
    "import audio_processing as ap\n",
    "\n",
    "import functools\n",
    "import os\n",
    "import sys\n",
    "import datetime\n",
    "import gc\n",
    "\n",
    "from absl import logging\n",
    "import numpy as np\n",
    "import pandas as pd\n",
    "import tensorflow as tf\n",
    "from tensorflow import keras\n",
    "import matplotlib.pyplot as plt\n",
    "from tensorflow import feature_column\n",
    "from tensorflow.keras import layers\n",
    "from matplotlib import pyplot as plt\n",
    "import sklearn\n",
    "\n",
    "# The following lines adjust the granularity of reporting.\n",
    "pd.options.display.max_rows = 10\n",
    "pd.options.display.float_format = \"{:.1f}\".format\n",
    "# tf.keras.backend.set_floatx('float32')\n",
    "\n",
    "print(\"Ran the import statements.\")"
   ]
  },
  {
   "cell_type": "markdown",
   "metadata": {},
   "source": [
    "## Feature Extraction\n",
    "Configure the following parameters to extract the desired features from a specified csv file to a specific destination directory."
   ]
  },
  {
   "cell_type": "code",
   "execution_count": 9,
   "metadata": {},
   "outputs": [],
   "source": [
    "# set logging to print logging.INFO logs\n",
    "logging.set_verbosity(logging.INFO)"
   ]
  },
  {
   "cell_type": "code",
   "execution_count": 10,
   "metadata": {},
   "outputs": [],
   "source": [
    "# arguments for audio_processing\n",
    "src_dir = 'example_src_dir'\n",
    "dest_dir = 'example_dest_dir'\n",
    "filename = 'gunshot_50_50'\n",
    "notebook = 'training_melspectrogram_cnn'\n",
    "labels = ['Gunshot, gunfire']\n",
    "available_features = ['chroma_stft',\n",
    "                       'chroma_cqt',\n",
    "                       'chroma_cens',\n",
    "                       'melspectrogram',\n",
    "                       'mfcc',\n",
    "                       'rms',\n",
    "                       'spectral_centroid',\n",
    "                       'spectral_bandwidth',\n",
    "                       'spectral_contrast',\n",
    "                       'spectral_flatness',\n",
    "                       'spectral_rolloff',\n",
    "                       'poly_features',\n",
    "                       'tonnetz',\n",
    "                       'zero_crossing_rate']\n",
    "features_to_extract = ['melspectrogram']\n",
    "last_features = None\n",
    "redo = False"
   ]
  },
  {
   "cell_type": "code",
   "execution_count": null,
   "metadata": {
    "tags": [
     "outputPrepend"
    ]
   },
   "outputs": [],
   "source": [
    "# Import the dataset as a pandas DataFrame object.\n",
    "features = '_'.join(features_to_extract)\n",
    "csv_path = os.path.join(dest_dir, filename + '_' + features + '.csv')\n",
    "features_changed = last_features is None or features_to_extract != last_features\n",
    "last_features = features_to_extract\n",
    "df = ap.output_df(src_dir, dest_dir, filename, labels, features_to_extract, redo)"
   ]
  },
  {
   "cell_type": "code",
   "execution_count": 12,
   "metadata": {
    "scrolled": false
   },
   "outputs": [
    {
     "data": {
      "text/html": [
       "<div>\n",
       "<style scoped>\n",
       "    .dataframe tbody tr th:only-of-type {\n",
       "        vertical-align: middle;\n",
       "    }\n",
       "\n",
       "    .dataframe tbody tr th {\n",
       "        vertical-align: top;\n",
       "    }\n",
       "\n",
       "    .dataframe thead th {\n",
       "        text-align: right;\n",
       "    }\n",
       "</style>\n",
       "<table border=\"1\" class=\"dataframe\">\n",
       "  <thead>\n",
       "    <tr style=\"text-align: right;\">\n",
       "      <th></th>\n",
       "      <th>label</th>\n",
       "      <th>melspectrogram</th>\n",
       "    </tr>\n",
       "  </thead>\n",
       "  <tbody>\n",
       "    <tr>\n",
       "      <th>0</th>\n",
       "      <td>1</td>\n",
       "      <td>[[3.4134238, 2.5367897, 2.295652, 1.9729736, 1...</td>\n",
       "    </tr>\n",
       "    <tr>\n",
       "      <th>1</th>\n",
       "      <td>1</td>\n",
       "      <td>[[0.009715517, 0.0028677727, 0.001311192, 0.00...</td>\n",
       "    </tr>\n",
       "    <tr>\n",
       "      <th>2</th>\n",
       "      <td>1</td>\n",
       "      <td>[[0.0, 0.0, 0.0, 0.0, 0.0, 0.0, 0.0, 0.0, 0.0,...</td>\n",
       "    </tr>\n",
       "    <tr>\n",
       "      <th>3</th>\n",
       "      <td>1</td>\n",
       "      <td>[[0.17823805, 0.099924825, 0.043443326, 0.1058...</td>\n",
       "    </tr>\n",
       "    <tr>\n",
       "      <th>4</th>\n",
       "      <td>0</td>\n",
       "      <td>[[0.0009629534, 0.0006072721, 0.00039850635, 0...</td>\n",
       "    </tr>\n",
       "  </tbody>\n",
       "</table>\n",
       "</div>"
      ],
      "text/plain": [
       "   label                                     melspectrogram\n",
       "0      1  [[3.4134238, 2.5367897, 2.295652, 1.9729736, 1...\n",
       "1      1  [[0.009715517, 0.0028677727, 0.001311192, 0.00...\n",
       "2      1  [[0.0, 0.0, 0.0, 0.0, 0.0, 0.0, 0.0, 0.0, 0.0,...\n",
       "3      1  [[0.17823805, 0.099924825, 0.043443326, 0.1058...\n",
       "4      0  [[0.0009629534, 0.0006072721, 0.00039850635, 0..."
      ]
     },
     "execution_count": 12,
     "metadata": {},
     "output_type": "execute_result"
    }
   ],
   "source": [
    "# print the first 5 rows of the dataframe.\n",
    "df.head()"
   ]
  },
  {
   "cell_type": "markdown",
   "metadata": {},
   "source": [
    "## Data Preprocessing"
   ]
  },
  {
   "cell_type": "code",
   "execution_count": 13,
   "metadata": {
    "tags": []
   },
   "outputs": [],
   "source": [
    "def fix_dataframe(dataframe):\n",
    "    # temp bug fix for rows with None features\n",
    "    # and rows with different number of elements per frame\n",
    "    bad_rows = []\n",
    "    for i in dataframe.index:\n",
    "        if dataframe.melspectrogram[i] is None:\n",
    "            bad_rows.append(i)\n",
    "        elif dataframe.melspectrogram[i][0] is None:\n",
    "            bad_rows.append(i)\n",
    "        elif len(dataframe.melspectrogram[i]) != 128:\n",
    "            bad_rows.append(i)\n",
    "        elif len(dataframe.melspectrogram[i][0]) != 431:\n",
    "            bad_rows.append(i)\n",
    "    new_dataframe = dataframe.drop(bad_rows)\n",
    "    return new_dataframe"
   ]
  },
  {
   "cell_type": "code",
   "execution_count": 14,
   "metadata": {},
   "outputs": [],
   "source": [
    "# Shuffle the dataset/dataframe.\n",
    "def shuffle_dataframe(dataframe):\n",
    "    dataframe = dataframe.reindex(np.random.permutation(dataframe.index))\n",
    "    return dataframe"
   ]
  },
  {
   "cell_type": "code",
   "execution_count": 15,
   "metadata": {},
   "outputs": [],
   "source": [
    "def dataframe_to_x_y(dataframe):\n",
    "    X = np.array(dataframe.melspectrogram.tolist(), dtype=object)\n",
    "    y = np.array(dataframe.label.tolist())\n",
    "    \n",
    "    # Convert arrays of objects to arrays of floats.\n",
    "    X = tf.keras.backend.cast_to_floatx(X)\n",
    "    y = tf.keras.backend.cast_to_floatx(y)\n",
    "    return X, y"
   ]
  },
  {
   "cell_type": "code",
   "execution_count": 16,
   "metadata": {},
   "outputs": [],
   "source": [
    "def data_preprocessing(dataframe):\n",
    "    print('tossing bad or incongruent data')\n",
    "    dataframe = fix_dataframe(dataframe)\n",
    "    print('shuffling dataframe')\n",
    "    dataframe = shuffle_dataframe(dataframe)\n",
    "    print('getting X, y from dataframe')\n",
    "    X, y = dataframe_to_x_y(dataframe)\n",
    "    x_train, x_val, y_train, y_val = sklearn.model_selection.train_test_split(X, y, test_size=0.2, random_state = 42)\n",
    "    return x_train, y_train, x_val, y_val"
   ]
  },
  {
   "cell_type": "code",
   "execution_count": 17,
   "metadata": {},
   "outputs": [
    {
     "name": "stdout",
     "output_type": "stream",
     "text": [
      "tossing bad or incongruent data\n",
      "shuffling dataframe\n",
      "getting X, y from dataframe\n"
     ]
    }
   ],
   "source": [
    "data = data_preprocessing(df)\n",
    "x_train, y_train, x_val, y_val = data"
   ]
  },
  {
   "cell_type": "markdown",
   "metadata": {},
   "source": [
    "Enter your data preprocessing here."
   ]
  },
  {
   "cell_type": "markdown",
   "metadata": {},
   "source": [
    "## Building and Training Neural Network"
   ]
  },
  {
   "cell_type": "code",
   "execution_count": 18,
   "metadata": {},
   "outputs": [],
   "source": [
    "def make_dir(path):\n",
    "    if not os.path.isdir(path):\n",
    "        try:\n",
    "            os.mkdir(path)\n",
    "        except OSError as error:\n",
    "            logging.error(error)\n",
    "            return False\n",
    "    return True"
   ]
  },
  {
   "cell_type": "code",
   "execution_count": 23,
   "metadata": {
    "tags": []
   },
   "outputs": [
    {
     "name": "stdout",
     "output_type": "stream",
     "text": [
      "Defined the plot_curve function.\n"
     ]
    }
   ],
   "source": [
    "# Define the plotting function.\n",
    "def plot_curve(epochs, hist, dest_path, notebook_filename, dataset_filename, list_of_metrics, list_of_hyperparameters):\n",
    "    \"\"\"Plot a curve of one or more classification metrics vs. epoch and save it to path.\"\"\"  \n",
    "    # list_of_metrics should be one of the names shown in:\n",
    "    # https://www.tensorflow.org/tutorials/structured_data/imbalanced_data#define_the_model_and_metrics  \n",
    "\n",
    "    plt.figure()\n",
    "    plt.xlabel(\"Epoch\")\n",
    "    plt.ylabel(\"Value\")\n",
    "\n",
    "    for m in list_of_metrics:\n",
    "        x = hist[m]\n",
    "        plt.plot(epochs[1:], x[1:], label=m)\n",
    "\n",
    "    plt.legend()\n",
    "    \n",
    "    make_dir(dest_path)    \n",
    "    path = os.path.join(dest_path, notebook_filename)\n",
    "    make_dir(path)\n",
    "    path = os.path.join(path, dataset_filename)\n",
    "    make_dir(path)\n",
    "        \n",
    "    list_of_hyperparameters_temp = [str(item) for item in list_of_hyperparameters]\n",
    "    filename = '_'.join(list_of_hyperparameters_temp)\n",
    "    path = os.path.join(path, filename + '.png')\n",
    "    plt.savefig(path, bbox_inches='tight')\n",
    "    \n",
    "    return plt\n",
    "\n",
    "\n",
    "print(\"Defined the plot_curve function.\")"
   ]
  },
  {
   "cell_type": "markdown",
   "metadata": {},
   "source": [
    "## Train 1\n",
    "Neural Network Type:\n",
    "* Input Layer: (Number of Nodes)\n",
    "* Hidden Layer 1:\n",
    "* Hidden Layer 2: \n",
    "* Ouput Layer: \n",
    "\n",
    "Hyper-parameters:\n",
    "* Loss Function: \n",
    "* Activation Function: \n",
    "* Optimizer Function: \n",
    "* Learning Rate: \n",
    "* Epochs: \n",
    "* Batch_Size: \n",
    "* Classification Threshold: \n",
    "* Regularization: \n",
    "* Regularization Lambda: "
   ]
  },
  {
   "cell_type": "code",
   "execution_count": 24,
   "metadata": {
    "tags": []
   },
   "outputs": [
    {
     "name": "stdout",
     "output_type": "stream",
     "text": [
      "Defined the create_model and train_model functions.\n"
     ]
    }
   ],
   "source": [
    "# Define the functions that create and train a model.\n",
    "def create_model(my_learning_rate, my_metrics, optimizer, regularization, regularization_lambda):\n",
    "    \"\"\"Create and compile a simple classification model.\"\"\"\n",
    "    # Discard any pre-existing version of the model.\n",
    "    model = None\n",
    "\n",
    "    # Most simple tf.keras models are sequential.\n",
    "    model = tf.keras.models.Sequential()\n",
    "              \n",
    "    model.add(tf.keras.layers.Conv2D(filters=16, kernel_size=2, input_shape=(128, 431, 1), activation=activation))\n",
    "    model.add(tf.keras.layers.MaxPooling2D(pool_size=2))\n",
    "    model.add(tf.keras.layers.Dropout(0.2))\n",
    "    \n",
    "    model.add(tf.keras.layers.Conv2D(filters=32, kernel_size=2, activation=activation))\n",
    "    model.add(tf.keras.layers.MaxPooling2D(pool_size=2))\n",
    "    model.add(tf.keras.layers.Dropout(0.2))\n",
    "    \n",
    "    model.add(tf.keras.layers.Conv2D(filters=64, kernel_size=2, activation=activation))\n",
    "    model.add(tf.keras.layers.MaxPooling2D(pool_size=2))\n",
    "    model.add(tf.keras.layers.Dropout(0.2))\n",
    "    \n",
    "    model.add(tf.keras.layers.Conv2D(filters=128, kernel_size=2, activation=activation))\n",
    "    model.add(tf.keras.layers.MaxPooling2D(pool_size=2))\n",
    "    model.add(tf.keras.layers.Dropout(0.2))\n",
    "    \n",
    "    model.add(tf.keras.layers.Flatten(name='Flatten_1'))\n",
    "    \n",
    "    model.add(tf.keras.layers.Dense(units=20, activation=activation,\n",
    "                                    kernel_regularizer=regularization(regularization_lambda),\n",
    "                                    name='Hidden_1'))\n",
    "\n",
    "    # Funnel the regression value through a sigmoid function.\n",
    "    model.add(tf.keras.layers.Dense(units=1, input_shape=(1,),\n",
    "                                  activation=tf.sigmoid,\n",
    "                                  name='Output'))\n",
    "\n",
    "    # Call the compile method to construct the layers into a model that\n",
    "    # TensorFlow can execute.  Notice that we're using a different loss\n",
    "    # function for classification than for regression.    \n",
    "    model.compile(optimizer=optimizer(lr=my_learning_rate),                                                   \n",
    "                loss=loss,\n",
    "                metrics=my_metrics)\n",
    "\n",
    "    return model        \n",
    "              \n",
    "def train_model(model, features, label, epochs, label_name,\n",
    "                batch_size=None, my_validation_split=0.0,\n",
    "                validation_data=None, shuffle=True):\n",
    "    \"\"\"Feed a dataset into the model in order to train it.\"\"\"\n",
    "\n",
    "    # The x parameter of tf.keras.Model.fit can be a list of arrays.\n",
    "    history = model.fit(x=features, y=label, batch_size=batch_size,\n",
    "                      epochs=epochs, shuffle=shuffle, validation_data=validation_data)\n",
    "\n",
    "    # The list of epochs is stored separately from the rest of history.\n",
    "    epochs = history.epoch\n",
    "\n",
    "    # Isolate the classification metric for each epoch.\n",
    "    hist = pd.DataFrame(history.history)\n",
    "\n",
    "    return epochs, hist  \n",
    "\n",
    "print(\"Defined the create_model and train_model functions.\")"
   ]
  },
  {
   "cell_type": "code",
   "execution_count": 25,
   "metadata": {
    "scrolled": true,
    "tags": []
   },
   "outputs": [
    {
     "name": "stdout",
     "output_type": "stream",
     "text": [
      "Model: \"sequential_2\"\n",
      "_________________________________________________________________\n",
      "Layer (type)                 Output Shape              Param #   \n",
      "=================================================================\n",
      "conv2d_8 (Conv2D)            (None, 127, 430, 16)      80        \n",
      "_________________________________________________________________\n",
      "max_pooling2d_8 (MaxPooling2 (None, 63, 215, 16)       0         \n",
      "_________________________________________________________________\n",
      "dropout_8 (Dropout)          (None, 63, 215, 16)       0         \n",
      "_________________________________________________________________\n",
      "conv2d_9 (Conv2D)            (None, 62, 214, 32)       2080      \n",
      "_________________________________________________________________\n",
      "max_pooling2d_9 (MaxPooling2 (None, 31, 107, 32)       0         \n",
      "_________________________________________________________________\n",
      "dropout_9 (Dropout)          (None, 31, 107, 32)       0         \n",
      "_________________________________________________________________\n",
      "conv2d_10 (Conv2D)           (None, 30, 106, 64)       8256      \n",
      "_________________________________________________________________\n",
      "max_pooling2d_10 (MaxPooling (None, 15, 53, 64)        0         \n",
      "_________________________________________________________________\n",
      "dropout_10 (Dropout)         (None, 15, 53, 64)        0         \n",
      "_________________________________________________________________\n",
      "conv2d_11 (Conv2D)           (None, 14, 52, 128)       32896     \n",
      "_________________________________________________________________\n",
      "max_pooling2d_11 (MaxPooling (None, 7, 26, 128)        0         \n",
      "_________________________________________________________________\n",
      "dropout_11 (Dropout)         (None, 7, 26, 128)        0         \n",
      "_________________________________________________________________\n",
      "Flatten_1 (Flatten)          (None, 23296)             0         \n",
      "_________________________________________________________________\n",
      "Hidden_1 (Dense)             (None, 20)                465940    \n",
      "_________________________________________________________________\n",
      "Output (Dense)               (None, 1)                 21        \n",
      "=================================================================\n",
      "Total params: 509,273\n",
      "Trainable params: 509,273\n",
      "Non-trainable params: 0\n",
      "_________________________________________________________________\n",
      "Epoch 1/30\n",
      "351/351 [==============================] - 114s 325ms/step - loss: 4.3596 - accuracy: 0.5320 - precision: 0.4545 - recall: 0.0468 - val_loss: 0.7197 - val_accuracy: 0.5335 - val_precision: 0.0000e+00 - val_recall: 0.0000e+00\n",
      "Epoch 2/30\n",
      "351/351 [==============================] - 124s 352ms/step - loss: 0.7621 - accuracy: 0.5331 - precision: 0.3793 - recall: 0.0108 - val_loss: 0.6939 - val_accuracy: 0.5335 - val_precision: 0.0000e+00 - val_recall: 0.0000e+00\n",
      "Epoch 3/30\n",
      "351/351 [==============================] - 107s 305ms/step - loss: 0.7550 - accuracy: 0.5362 - precision: 0.4898 - recall: 0.0059 - val_loss: 0.7456 - val_accuracy: 0.5281 - val_precision: 0.1250 - val_recall: 0.0020\n",
      "Epoch 4/30\n",
      "351/351 [==============================] - 106s 303ms/step - loss: 0.7417 - accuracy: 0.5354 - precision: 0.3667 - recall: 0.0027 - val_loss: 0.7168 - val_accuracy: 0.5335 - val_precision: 0.0000e+00 - val_recall: 0.0000e+00\n",
      "Epoch 5/30\n",
      "351/351 [==============================] - 112s 319ms/step - loss: 0.7585 - accuracy: 0.5350 - precision: 0.2105 - recall: 9.8449e-04 - val_loss: 0.7133 - val_accuracy: 0.5335 - val_precision: 0.0000e+00 - val_recall: 0.0000e+00\n",
      "Epoch 6/30\n",
      "351/351 [==============================] - 108s 308ms/step - loss: 0.7324 - accuracy: 0.5356 - precision: 0.2500 - recall: 7.3837e-04 - val_loss: 0.7074 - val_accuracy: 0.5335 - val_precision: 0.0000e+00 - val_recall: 0.0000e+00\n",
      "Epoch 7/30\n",
      "351/351 [==============================] - 106s 301ms/step - loss: 0.7222 - accuracy: 0.5352 - precision: 0.1875 - recall: 7.3837e-04 - val_loss: 0.7101 - val_accuracy: 0.5335 - val_precision: 0.0000e+00 - val_recall: 0.0000e+00\n",
      "Epoch 8/30\n",
      "351/351 [==============================] - 105s 298ms/step - loss: 0.7237 - accuracy: 0.5350 - precision: 0.1765 - recall: 7.3837e-04 - val_loss: 0.7003 - val_accuracy: 0.5335 - val_precision: 0.0000e+00 - val_recall: 0.0000e+00\n",
      "Epoch 9/30\n",
      "351/351 [==============================] - 111s 315ms/step - loss: 0.7470 - accuracy: 0.5346 - precision: 0.2000 - recall: 0.0012 - val_loss: 0.7073 - val_accuracy: 0.5331 - val_precision: 0.0000e+00 - val_recall: 0.0000e+00\n",
      "Epoch 10/30\n",
      "351/351 [==============================] - 112s 318ms/step - loss: 0.7462 - accuracy: 0.5347 - precision: 0.3333 - recall: 0.0034 - val_loss: 0.7053 - val_accuracy: 0.5331 - val_precision: 0.0000e+00 - val_recall: 0.0000e+00\n",
      "Epoch 11/30\n",
      "351/351 [==============================] - 120s 341ms/step - loss: 0.7954 - accuracy: 0.5342 - precision: 0.2000 - recall: 0.0015 - val_loss: 0.6957 - val_accuracy: 0.5335 - val_precision: 0.0000e+00 - val_recall: 0.0000e+00\n",
      "Epoch 12/30\n",
      "351/351 [==============================] - 108s 308ms/step - loss: 0.7187 - accuracy: 0.5344 - precision: 0.2258 - recall: 0.0017 - val_loss: 0.6738 - val_accuracy: 0.5331 - val_precision: 0.0000e+00 - val_recall: 0.0000e+00\n",
      "Epoch 13/30\n",
      "351/351 [==============================] - 105s 300ms/step - loss: 0.6933 - accuracy: 0.5354 - precision: 0.3000 - recall: 0.0015 - val_loss: 0.6322 - val_accuracy: 0.5335 - val_precision: 0.0000e+00 - val_recall: 0.0000e+00\n",
      "Epoch 14/30\n",
      "351/351 [==============================] - 110s 313ms/step - loss: 0.6783 - accuracy: 0.5350 - precision: 0.2609 - recall: 0.0015 - val_loss: 0.6776 - val_accuracy: 0.5335 - val_precision: 0.0000e+00 - val_recall: 0.0000e+00\n",
      "Epoch 15/30\n",
      "351/351 [==============================] - 105s 299ms/step - loss: 0.6701 - accuracy: 0.5350 - precision: 0.2800 - recall: 0.0017 - val_loss: 0.6180 - val_accuracy: 0.5335 - val_precision: 0.0000e+00 - val_recall: 0.0000e+00\n",
      "Epoch 16/30\n",
      "351/351 [==============================] - 114s 325ms/step - loss: 0.6597 - accuracy: 0.5361 - precision: 0.4167 - recall: 0.0012 - val_loss: 0.6074 - val_accuracy: 0.5335 - val_precision: 0.0000e+00 - val_recall: 0.0000e+00\n",
      "Epoch 17/30\n",
      "351/351 [==============================] - 113s 323ms/step - loss: 0.6372 - accuracy: 0.5358 - precision: 0.4545 - recall: 0.0049 - val_loss: 0.5996 - val_accuracy: 0.5335 - val_precision: 0.0000e+00 - val_recall: 0.0000e+00\n",
      "Epoch 18/30\n",
      "351/351 [==============================] - 112s 320ms/step - loss: 0.6354 - accuracy: 0.5361 - precision: 0.3750 - recall: 7.3837e-04 - val_loss: 0.6113 - val_accuracy: 0.5335 - val_precision: 0.0000e+00 - val_recall: 0.0000e+00\n",
      "Epoch 19/30\n",
      "351/351 [==============================] - 112s 320ms/step - loss: 0.6164 - accuracy: 0.5362 - precision: 0.0000e+00 - recall: 0.0000e+00 - val_loss: 0.7424 - val_accuracy: 0.5335 - val_precision: 0.0000e+00 - val_recall: 0.0000e+00\n",
      "Epoch 20/30\n",
      "351/351 [==============================] - 96s 273ms/step - loss: 0.6454 - accuracy: 0.5345 - precision: 0.1364 - recall: 7.3837e-04 - val_loss: 0.6112 - val_accuracy: 0.5335 - val_precision: 0.0000e+00 - val_recall: 0.0000e+00\n",
      "Epoch 21/30\n",
      "351/351 [==============================] - 96s 273ms/step - loss: 0.6280 - accuracy: 0.5354 - precision: 0.3462 - recall: 0.0022 - val_loss: 0.6867 - val_accuracy: 0.5335 - val_precision: 0.0000e+00 - val_recall: 0.0000e+00\n",
      "Epoch 22/30\n",
      "351/351 [==============================] - 98s 279ms/step - loss: 0.6210 - accuracy: 0.5360 - precision: 0.2857 - recall: 4.9225e-04 - val_loss: 0.6543 - val_accuracy: 0.5335 - val_precision: 0.0000e+00 - val_recall: 0.0000e+00\n",
      "Epoch 23/30\n",
      "351/351 [==============================] - 98s 280ms/step - loss: 0.6346 - accuracy: 0.5348 - precision: 0.1579 - recall: 7.3837e-04 - val_loss: 0.6360 - val_accuracy: 0.5331 - val_precision: 0.0000e+00 - val_recall: 0.0000e+00\n",
      "Epoch 24/30\n",
      "351/351 [==============================] - 99s 281ms/step - loss: 0.5929 - accuracy: 0.5669 - precision: 0.7168 - recall: 0.1090 - val_loss: 0.5957 - val_accuracy: 0.6851 - val_precision: 0.7117 - val_recall: 0.5460\n",
      "Epoch 25/30\n",
      "351/351 [==============================] - 104s 296ms/step - loss: 0.5954 - accuracy: 0.5856 - precision: 0.7865 - recall: 0.1460 - val_loss: 0.5962 - val_accuracy: 0.6025 - val_precision: 0.8756 - val_recall: 0.1722\n"
     ]
    },
    {
     "name": "stdout",
     "output_type": "stream",
     "text": [
      "Epoch 26/30\n",
      "351/351 [==============================] - 97s 276ms/step - loss: 0.5951 - accuracy: 0.6540 - precision: 0.7749 - recall: 0.3576 - val_loss: 0.5534 - val_accuracy: 0.5952 - val_precision: 0.8358 - val_recall: 0.1644\n",
      "Epoch 27/30\n",
      "351/351 [==============================] - 101s 287ms/step - loss: 0.5853 - accuracy: 0.6665 - precision: 0.7826 - recall: 0.3889 - val_loss: 0.6058 - val_accuracy: 0.7102 - val_precision: 0.7490 - val_recall: 0.5695\n",
      "Epoch 28/30\n",
      "351/351 [==============================] - 104s 295ms/step - loss: 0.5704 - accuracy: 0.6899 - precision: 0.7847 - recall: 0.4566 - val_loss: 0.5353 - val_accuracy: 0.7563 - val_precision: 0.7976 - val_recall: 0.6399\n",
      "Epoch 29/30\n",
      "351/351 [==============================] - 108s 307ms/step - loss: 0.5551 - accuracy: 0.7278 - precision: 0.7838 - recall: 0.5703 - val_loss: 0.5117 - val_accuracy: 0.7330 - val_precision: 0.8377 - val_recall: 0.5303\n",
      "Epoch 30/30\n",
      "351/351 [==============================] - 99s 282ms/step - loss: 0.5686 - accuracy: 0.7334 - precision: 0.8235 - recall: 0.5410 - val_loss: 0.5072 - val_accuracy: 0.7718 - val_precision: 0.8772 - val_recall: 0.5939\n",
      "Training Performance\n",
      "---------------------------------\n",
      "loss:  0.4924810230731964\n",
      "accuracy:  0.7674046754837036\n",
      "precision:  0.8712871074676514\n",
      "recall:  0.5847895741462708\n",
      "\n",
      "Validation Performance\n",
      "---------------------------------\n",
      "loss:  0.5072486400604248\n",
      "accuracy:  0.7717937231063843\n",
      "precision:  0.8771676421165466\n",
      "recall:  0.5939334630966187\n"
     ]
    },
    {
     "data": {
      "image/png": "[encoded data removed]",
      "text/plain": [
       "<Figure size 432x288 with 1 Axes>"
      ]
     },
     "metadata": {
      "needs_background": "light"
     },
     "output_type": "display_data"
    },
    {
     "data": {
      "image/png": "[encoded data removed]",
      "text/plain": [
       "<Figure size 432x288 with 1 Axes>"
      ]
     },
     "metadata": {
      "needs_background": "light"
     },
     "output_type": "display_data"
    }
   ],
   "source": [
    "# The following variables are the hyperparameters.\n",
    "loss = tf.keras.losses.BinaryCrossentropy()\n",
    "activation = 'relu'\n",
    "optimizer = tf.keras.optimizers.RMSprop\n",
    "learning_rate = 0.01\n",
    "epochs = 30\n",
    "batch_size = 25\n",
    "classification_threshold = 0.70\n",
    "regularization = tf.keras.regularizers.l2\n",
    "regularization_lambda = 0.001\n",
    "label_name = \"Gunshot, gunfire\"\n",
    "\n",
    "list_of_hyperparameters = [learning_rate, epochs, batch_size,\n",
    "                           classification_threshold,\n",
    "                           regularization_lambda,\n",
    "                           label_name]\n",
    "\n",
    "\n",
    "# Here is the updated definition of METRICS:\n",
    "METRICS = [\n",
    "      tf.keras.metrics.BinaryAccuracy(\n",
    "          name='accuracy', threshold=classification_threshold),\n",
    "      tf.keras.metrics.Precision(\n",
    "          thresholds=classification_threshold, name='precision'),\n",
    "      tf.keras.metrics.Recall(\n",
    "          thresholds=classification_threshold, name=\"recall\"),\n",
    "]\n",
    "\n",
    "x_train1 = x_train.reshape(x_train.shape[0], 128, 431, 1)\n",
    "x_val1 = x_val.reshape(x_val.shape[0], 128, 431, 1)\n",
    "\n",
    "# Establish the model's topography.\n",
    "my_model = create_model(learning_rate, METRICS, optimizer=optimizer, regularization=regularization, regularization_lambda=regularization_lambda)\n",
    "\n",
    "# View the model's structure.\n",
    "my_model.summary()\n",
    "\n",
    "# Train the model on the training set.\n",
    "epochs, hist = train_model(my_model, x_train1, y_train, epochs, \n",
    "                          label_name, batch_size, validation_data=(x_val1, y_val))\n",
    "\n",
    "# Plot metrics vs. epochs\n",
    "list_of_metrics_to_plot = ['accuracy', \"precision\", \"recall\", 'val_accuracy', 'val_precision', 'val_recall'] \n",
    "plot_curve(epochs, hist, dest_dir, notebook, filename, list_of_metrics_to_plot, list_of_hyperparameters)\n",
    "plot_curve(epochs, hist, dest_dir, notebook, filename, ['loss', 'val_loss'], list_of_hyperparameters)\n",
    "\n",
    "training_performance =  my_model.evaluate(x_train1, y_train, verbose=0)\n",
    "print('Training Performance')\n",
    "print('---------------------------------')\n",
    "print('loss: ', training_performance[0])\n",
    "print('accuracy: ', training_performance[1])\n",
    "print('precision: ', training_performance[2])\n",
    "print('recall: ', training_performance[3])\n",
    "print()\n",
    "\n",
    "validation_performance =  my_model.evaluate(x_val1, y_val, verbose=0)\n",
    "print('Validation Performance')\n",
    "print('---------------------------------')\n",
    "print('loss: ', validation_performance[0])\n",
    "print('accuracy: ', validation_performance[1])\n",
    "print('precision: ', validation_performance[2])\n",
    "print('recall: ', validation_performance[3])"
   ]
  },
  {
   "cell_type": "markdown",
   "metadata": {},
   "source": [
    "## Train 2\n",
    "Neural Network Type:\n",
    "* Input Layer: (Number of Nodes)\n",
    "* Hidden Layer 1:\n",
    "* Hidden Layer 2: \n",
    "* Ouput Layer: \n",
    "\n",
    "Hyper-parameters:\n",
    "* Loss Function: \n",
    "* Activation Function: \n",
    "* Optimizer Function: \n",
    "* Learning Rate: \n",
    "* Epochs: \n",
    "* Batch_Size: \n",
    "* Classification Threshold: \n",
    "* Regularization: \n",
    "* Regularization Lambda: "
   ]
  },
  {
   "cell_type": "code",
   "execution_count": 26,
   "metadata": {
    "tags": []
   },
   "outputs": [
    {
     "name": "stdout",
     "output_type": "stream",
     "text": [
      "Defined the create_model and train_model functions.\n"
     ]
    }
   ],
   "source": [
    "# Define the functions that create and train a model.\n",
    "def create_model(my_learning_rate, my_metrics, optimizer, regularization, regularization_lambda):\n",
    "    \"\"\"Create and compile a simple classification model.\"\"\"\n",
    "    # Discard any pre-existing version of the model.\n",
    "    model = None\n",
    "\n",
    "    # Most simple tf.keras models are sequential.\n",
    "    model = tf.keras.models.Sequential()\n",
    "              \n",
    "    model.add(tf.keras.layers.Conv2D(filters=16, kernel_size=2, input_shape=(128, 431, 1), activation=activation))\n",
    "    model.add(tf.keras.layers.MaxPooling2D(pool_size=2))\n",
    "    model.add(tf.keras.layers.Dropout(0.2))\n",
    "    \n",
    "    model.add(tf.keras.layers.Conv2D(filters=32, kernel_size=2, activation=activation))\n",
    "    model.add(tf.keras.layers.MaxPooling2D(pool_size=2))\n",
    "    model.add(tf.keras.layers.Dropout(0.2))\n",
    "    \n",
    "    model.add(tf.keras.layers.Conv2D(filters=64, kernel_size=2, activation=activation))\n",
    "    model.add(tf.keras.layers.MaxPooling2D(pool_size=2))\n",
    "    model.add(tf.keras.layers.Dropout(0.2))\n",
    "    \n",
    "    model.add(tf.keras.layers.Conv2D(filters=128, kernel_size=2, activation=activation))\n",
    "    model.add(tf.keras.layers.MaxPooling2D(pool_size=2))\n",
    "    model.add(tf.keras.layers.Dropout(0.2))\n",
    "    \n",
    "    model.add(tf.keras.layers.Conv2D(filters=256, kernel_size=2, activation=activation))\n",
    "    model.add(tf.keras.layers.MaxPooling2D(pool_size=2))\n",
    "    model.add(tf.keras.layers.Dropout(0.2))\n",
    "    \n",
    "    model.add(tf.keras.layers.Flatten(name='Flatten_1'))\n",
    "    \n",
    "    model.add(tf.keras.layers.Dense(units=20, activation=activation,\n",
    "                                    kernel_regularizer=regularization(regularization_lambda),\n",
    "                                    name='Hidden_1'))\n",
    "\n",
    "    # Funnel the regression value through a sigmoid function.\n",
    "    model.add(tf.keras.layers.Dense(units=1, input_shape=(1,),\n",
    "                                  activation=tf.sigmoid,\n",
    "                                  name='Output'))\n",
    "\n",
    "    # Call the compile method to construct the layers into a model that\n",
    "    # TensorFlow can execute.  Notice that we're using a different loss\n",
    "    # function for classification than for regression.    \n",
    "    model.compile(optimizer=optimizer(lr=my_learning_rate),                                                   \n",
    "                loss=loss,\n",
    "                metrics=my_metrics)\n",
    "\n",
    "    return model        \n",
    "              \n",
    "def train_model(model, features, label, epochs, label_name,\n",
    "                batch_size=None, my_validation_split=0.0,\n",
    "                validation_data=None, shuffle=True):\n",
    "    \"\"\"Feed a dataset into the model in order to train it.\"\"\"\n",
    "\n",
    "    # The x parameter of tf.keras.Model.fit can be a list of arrays.\n",
    "    history = model.fit(x=features, y=label, batch_size=batch_size,\n",
    "                      epochs=epochs, shuffle=shuffle, validation_data=validation_data)\n",
    "\n",
    "    # The list of epochs is stored separately from the rest of history.\n",
    "    epochs = history.epoch\n",
    "\n",
    "    # Isolate the classification metric for each epoch.\n",
    "    hist = pd.DataFrame(history.history)\n",
    "\n",
    "    return epochs, hist  \n",
    "\n",
    "print(\"Defined the create_model and train_model functions.\")"
   ]
  },
  {
   "cell_type": "code",
   "execution_count": 27,
   "metadata": {
    "scrolled": true,
    "tags": []
   },
   "outputs": [
    {
     "name": "stdout",
     "output_type": "stream",
     "text": [
      "Model: \"sequential_3\"\n",
      "_________________________________________________________________\n",
      "Layer (type)                 Output Shape              Param #   \n",
      "=================================================================\n",
      "conv2d_12 (Conv2D)           (None, 127, 430, 16)      80        \n",
      "_________________________________________________________________\n",
      "max_pooling2d_12 (MaxPooling (None, 63, 215, 16)       0         \n",
      "_________________________________________________________________\n",
      "dropout_12 (Dropout)         (None, 63, 215, 16)       0         \n",
      "_________________________________________________________________\n",
      "conv2d_13 (Conv2D)           (None, 62, 214, 32)       2080      \n",
      "_________________________________________________________________\n",
      "max_pooling2d_13 (MaxPooling (None, 31, 107, 32)       0         \n",
      "_________________________________________________________________\n",
      "dropout_13 (Dropout)         (None, 31, 107, 32)       0         \n",
      "_________________________________________________________________\n",
      "conv2d_14 (Conv2D)           (None, 30, 106, 64)       8256      \n",
      "_________________________________________________________________\n",
      "max_pooling2d_14 (MaxPooling (None, 15, 53, 64)        0         \n",
      "_________________________________________________________________\n",
      "dropout_14 (Dropout)         (None, 15, 53, 64)        0         \n",
      "_________________________________________________________________\n",
      "conv2d_15 (Conv2D)           (None, 14, 52, 128)       32896     \n",
      "_________________________________________________________________\n",
      "max_pooling2d_15 (MaxPooling (None, 7, 26, 128)        0         \n",
      "_________________________________________________________________\n",
      "dropout_15 (Dropout)         (None, 7, 26, 128)        0         \n",
      "_________________________________________________________________\n",
      "conv2d_16 (Conv2D)           (None, 6, 25, 256)        131328    \n",
      "_________________________________________________________________\n",
      "max_pooling2d_16 (MaxPooling (None, 3, 12, 256)        0         \n",
      "_________________________________________________________________\n",
      "dropout_16 (Dropout)         (None, 3, 12, 256)        0         \n",
      "_________________________________________________________________\n",
      "Flatten_1 (Flatten)          (None, 9216)              0         \n",
      "_________________________________________________________________\n",
      "Hidden_1 (Dense)             (None, 20)                184340    \n",
      "_________________________________________________________________\n",
      "Output (Dense)               (None, 1)                 21        \n",
      "=================================================================\n",
      "Total params: 359,001\n",
      "Trainable params: 359,001\n",
      "Non-trainable params: 0\n",
      "_________________________________________________________________\n",
      "Epoch 1/30\n",
      "351/351 [==============================] - 108s 309ms/step - loss: 56.8013 - accuracy: 0.5305 - precision: 0.4290 - recall: 0.0379 - val_loss: 0.7047 - val_accuracy: 0.5335 - val_precision: 0.0000e+00 - val_recall: 0.0000e+00\n",
      "Epoch 2/30\n",
      "351/351 [==============================] - 105s 300ms/step - loss: 0.7419 - accuracy: 0.5345 - precision: 0.4216 - recall: 0.0106 - val_loss: 0.8515 - val_accuracy: 0.5335 - val_precision: 0.0000e+00 - val_recall: 0.0000e+00\n",
      "Epoch 3/30\n",
      "351/351 [==============================] - 123s 350ms/step - loss: 0.7419 - accuracy: 0.5369 - precision: 0.5197 - recall: 0.0162 - val_loss: 0.6761 - val_accuracy: 0.5340 - val_precision: 0.6667 - val_recall: 0.0020\n",
      "Epoch 4/30\n",
      "351/351 [==============================] - 113s 321ms/step - loss: 0.7571 - accuracy: 0.5770 - precision: 0.7223 - recall: 0.1428 - val_loss: 0.5741 - val_accuracy: 0.7111 - val_precision: 0.8705 - val_recall: 0.4472\n",
      "Epoch 5/30\n",
      "351/351 [==============================] - 114s 326ms/step - loss: 0.6099 - accuracy: 0.7038 - precision: 0.8616 - recall: 0.4305 - val_loss: 0.6552 - val_accuracy: 0.7869 - val_precision: 0.7778 - val_recall: 0.7603\n",
      "Epoch 6/30\n",
      "351/351 [==============================] - 117s 332ms/step - loss: 0.5849 - accuracy: 0.7221 - precision: 0.8570 - recall: 0.4809 - val_loss: 0.5350 - val_accuracy: 0.7608 - val_precision: 0.8468 - val_recall: 0.5949\n",
      "Epoch 7/30\n",
      "351/351 [==============================] - 123s 349ms/step - loss: 0.5529 - accuracy: 0.7316 - precision: 0.8683 - recall: 0.4964 - val_loss: 0.4641 - val_accuracy: 0.7800 - val_precision: 0.8719 - val_recall: 0.6194\n",
      "Epoch 8/30\n",
      "351/351 [==============================] - 122s 347ms/step - loss: 0.5245 - accuracy: 0.7438 - precision: 0.8819 - recall: 0.5166 - val_loss: 0.4844 - val_accuracy: 0.7275 - val_precision: 0.9276 - val_recall: 0.4511\n",
      "Epoch 9/30\n",
      "351/351 [==============================] - 125s 357ms/step - loss: 0.5410 - accuracy: 0.7417 - precision: 0.8769 - recall: 0.5154 - val_loss: 0.5478 - val_accuracy: 0.8047 - val_precision: 0.8140 - val_recall: 0.7534\n",
      "Epoch 10/30\n",
      "351/351 [==============================] - 124s 354ms/step - loss: 0.5310 - accuracy: 0.7477 - precision: 0.8752 - recall: 0.5316 - val_loss: 0.5478 - val_accuracy: 0.8019 - val_precision: 0.8217 - val_recall: 0.7348\n",
      "Epoch 11/30\n",
      "351/351 [==============================] - 113s 322ms/step - loss: 0.5186 - accuracy: 0.7424 - precision: 0.8701 - recall: 0.5225 - val_loss: 0.5606 - val_accuracy: 0.7951 - val_precision: 0.7909 - val_recall: 0.7622\n",
      "Epoch 12/30\n",
      "351/351 [==============================] - 105s 298ms/step - loss: 0.5314 - accuracy: 0.7402 - precision: 0.8688 - recall: 0.5181 - val_loss: 0.8260 - val_accuracy: 0.7805 - val_precision: 0.7149 - val_recall: 0.8806\n",
      "Epoch 13/30\n",
      "351/351 [==============================] - 105s 299ms/step - loss: 0.5180 - accuracy: 0.7514 - precision: 0.8793 - recall: 0.5378 - val_loss: 0.4862 - val_accuracy: 0.6956 - val_precision: 0.9340 - val_recall: 0.3738\n",
      "Epoch 14/30\n",
      "351/351 [==============================] - 107s 303ms/step - loss: 0.5234 - accuracy: 0.7491 - precision: 0.8729 - recall: 0.5373 - val_loss: 0.4601 - val_accuracy: 0.7513 - val_precision: 0.8916 - val_recall: 0.5313\n",
      "Epoch 15/30\n",
      "351/351 [==============================] - 114s 323ms/step - loss: 0.5251 - accuracy: 0.7465 - precision: 0.8735 - recall: 0.5302 - val_loss: 0.4712 - val_accuracy: 0.7335 - val_precision: 0.9101 - val_recall: 0.4755\n",
      "Epoch 16/30\n",
      "351/351 [==============================] - 112s 320ms/step - loss: 0.5173 - accuracy: 0.7497 - precision: 0.8767 - recall: 0.5356 - val_loss: 0.4434 - val_accuracy: 0.7764 - val_precision: 0.8935 - val_recall: 0.5910\n",
      "Epoch 17/30\n",
      "351/351 [==============================] - 112s 320ms/step - loss: 0.5130 - accuracy: 0.7453 - precision: 0.8726 - recall: 0.5277 - val_loss: 0.5769 - val_accuracy: 0.8270 - val_precision: 0.8071 - val_recall: 0.8268\n",
      "Epoch 18/30\n",
      "351/351 [==============================] - 137s 390ms/step - loss: 0.5812 - accuracy: 0.7389 - precision: 0.8687 - recall: 0.5146 - val_loss: 0.5321 - val_accuracy: 0.6668 - val_precision: 0.9563 - val_recall: 0.2994\n",
      "Epoch 19/30\n",
      "351/351 [==============================] - 112s 320ms/step - loss: 0.5330 - accuracy: 0.7421 - precision: 0.8767 - recall: 0.5164 - val_loss: 0.4793 - val_accuracy: 0.8092 - val_precision: 0.8604 - val_recall: 0.7055\n",
      "Epoch 20/30\n",
      "351/351 [==============================] - 119s 339ms/step - loss: 0.5358 - accuracy: 0.7436 - precision: 0.8796 - recall: 0.5178 - val_loss: 0.5339 - val_accuracy: 0.8279 - val_precision: 0.8391 - val_recall: 0.7808\n",
      "Epoch 21/30\n",
      "351/351 [==============================] - 121s 346ms/step - loss: 0.5608 - accuracy: 0.7404 - precision: 0.8750 - recall: 0.5134 - val_loss: 0.5132 - val_accuracy: 0.8088 - val_precision: 0.8454 - val_recall: 0.7221\n",
      "Epoch 22/30\n",
      "351/351 [==============================] - 119s 340ms/step - loss: 0.6644 - accuracy: 0.7365 - precision: 0.8685 - recall: 0.5087 - val_loss: 0.5958 - val_accuracy: 0.5806 - val_precision: 0.9725 - val_recall: 0.1037\n",
      "Epoch 23/30\n",
      "351/351 [==============================] - 121s 345ms/step - loss: 0.5494 - accuracy: 0.7388 - precision: 0.8746 - recall: 0.5097 - val_loss: 0.4920 - val_accuracy: 0.7631 - val_precision: 0.8704 - val_recall: 0.5783\n",
      "Epoch 24/30\n",
      "351/351 [==============================] - 120s 343ms/step - loss: 0.5211 - accuracy: 0.7431 - precision: 0.8728 - recall: 0.5220 - val_loss: 0.5138 - val_accuracy: 0.6801 - val_precision: 0.9280 - val_recall: 0.3405\n"
     ]
    },
    {
     "name": "stdout",
     "output_type": "stream",
     "text": [
      "Epoch 25/30\n",
      "351/351 [==============================] - 142s 404ms/step - loss: 0.5963 - accuracy: 0.7412 - precision: 0.8744 - recall: 0.5159 - val_loss: 0.4764 - val_accuracy: 0.7850 - val_precision: 0.8821 - val_recall: 0.6223\n",
      "Epoch 26/30\n",
      "351/351 [==============================] - 127s 363ms/step - loss: 0.5261 - accuracy: 0.7378 - precision: 0.8710 - recall: 0.5102 - val_loss: 0.5000 - val_accuracy: 0.7389 - val_precision: 0.9061 - val_recall: 0.4912\n",
      "Epoch 27/30\n",
      "351/351 [==============================] - 128s 364ms/step - loss: 0.5489 - accuracy: 0.7391 - precision: 0.8685 - recall: 0.5154 - val_loss: 0.4822 - val_accuracy: 0.7672 - val_precision: 0.8902 - val_recall: 0.5714\n",
      "Epoch 28/30\n",
      "351/351 [==============================] - 126s 358ms/step - loss: 0.7008 - accuracy: 0.7331 - precision: 0.8696 - recall: 0.4991 - val_loss: 0.6141 - val_accuracy: 0.5755 - val_precision: 0.9600 - val_recall: 0.0939\n",
      "Epoch 29/30\n",
      "351/351 [==============================] - 117s 334ms/step - loss: 0.5907 - accuracy: 0.7303 - precision: 0.8689 - recall: 0.4927 - val_loss: 0.4993 - val_accuracy: 0.7695 - val_precision: 0.8947 - val_recall: 0.5734\n",
      "Epoch 30/30\n",
      "351/351 [==============================] - 117s 334ms/step - loss: 0.6295 - accuracy: 0.7362 - precision: 0.8706 - recall: 0.5065 - val_loss: 0.4437 - val_accuracy: 0.7891 - val_precision: 0.8846 - val_recall: 0.6301\n",
      "Training Performance\n",
      "---------------------------------\n",
      "loss:  0.4371781051158905\n",
      "accuracy:  0.7952522039413452\n",
      "precision:  0.8951584696769714\n",
      "recall:  0.6325375437736511\n",
      "\n",
      "Validation Performance\n",
      "---------------------------------\n",
      "loss:  0.443720281124115\n",
      "accuracy:  0.7891373634338379\n",
      "precision:  0.8846153616905212\n",
      "recall:  0.6301369667053223\n"
     ]
    },
    {
     "data": {
      "image/png": "[encoded data removed]",
      "text/plain": [
       "<Figure size 432x288 with 1 Axes>"
      ]
     },
     "metadata": {
      "needs_background": "light"
     },
     "output_type": "display_data"
    },
    {
     "data": {
      "image/png": "[encoded data removed]",
      "text/plain": [
       "<Figure size 432x288 with 1 Axes>"
      ]
     },
     "metadata": {
      "needs_background": "light"
     },
     "output_type": "display_data"
    }
   ],
   "source": [
    "# The following variables are the hyperparameters.\n",
    "loss = tf.keras.losses.BinaryCrossentropy()\n",
    "activation = 'relu'\n",
    "optimizer = tf.keras.optimizers.RMSprop\n",
    "learning_rate = 0.01\n",
    "epochs = 30\n",
    "batch_size = 25\n",
    "classification_threshold = 0.70\n",
    "regularization = tf.keras.regularizers.l2\n",
    "regularization_lambda = 0.001\n",
    "label_name = \"label\"\n",
    "\n",
    "list_of_hyperparameters = [learning_rate, epochs, batch_size,\n",
    "                           classification_threshold,\n",
    "                           regularization_lambda,\n",
    "                           label_name]\n",
    "\n",
    "\n",
    "# Here is the updated definition of METRICS:\n",
    "METRICS = [\n",
    "      tf.keras.metrics.BinaryAccuracy(\n",
    "          name='accuracy', threshold=classification_threshold),\n",
    "      tf.keras.metrics.Precision(\n",
    "          thresholds=classification_threshold, name='precision'),\n",
    "      tf.keras.metrics.Recall(\n",
    "          thresholds=classification_threshold, name=\"recall\"),\n",
    "]\n",
    "\n",
    "x_train1 = x_train.reshape(x_train.shape[0], 128, 431, 1)\n",
    "x_val1 = x_val.reshape(x_val.shape[0], 128, 431, 1)\n",
    "\n",
    "# Establish the model's topography.\n",
    "my_model = create_model(learning_rate, METRICS, optimizer=optimizer, regularization=regularization, regularization_lambda=regularization_lambda)\n",
    "\n",
    "# View the model's structure.\n",
    "my_model.summary()\n",
    "\n",
    "# Train the model on the training set.\n",
    "epochs, hist = train_model(my_model, x_train1, y_train, epochs, \n",
    "                          label_name, batch_size, validation_data=(x_val1, y_val))\n",
    "\n",
    "# Plot metrics vs. epochs\n",
    "list_of_metrics_to_plot = ['accuracy', \"precision\", \"recall\", 'val_accuracy', 'val_precision', 'val_recall'] \n",
    "plot_curve(epochs, hist, dest_dir, notebook, filename, list_of_metrics_to_plot, list_of_hyperparameters)\n",
    "plot_curve(epochs, hist, dest_dir, notebook, filename, ['loss', 'val_loss'], list_of_hyperparameters)\n",
    "\n",
    "training_performance =  my_model.evaluate(x_train1, y_train, verbose=0)\n",
    "print('Training Performance')\n",
    "print('---------------------------------')\n",
    "print('loss: ', training_performance[0])\n",
    "print('accuracy: ', training_performance[1])\n",
    "print('precision: ', training_performance[2])\n",
    "print('recall: ', training_performance[3])\n",
    "print()\n",
    "\n",
    "validation_performance =  my_model.evaluate(x_val1, y_val, verbose=0)\n",
    "print('Validation Performance')\n",
    "print('---------------------------------')\n",
    "print('loss: ', validation_performance[0])\n",
    "print('accuracy: ', validation_performance[1])\n",
    "print('precision: ', validation_performance[2])\n",
    "print('recall: ', validation_performance[3])"
   ]
  }
 ],
 "metadata": {
  "kernelspec": {
   "display_name": "Python 3",
   "language": "python",
   "name": "python3"
  },
  "language_info": {
   "codemirror_mode": {
    "name": "ipython",
    "version": 3
   },
   "file_extension": ".py",
   "mimetype": "text/x-python",
   "name": "python",
   "nbconvert_exporter": "python",
   "pygments_lexer": "ipython3",
   "version": "3.8.3"
  }
 },
 "nbformat": 4,
 "nbformat_minor": 4
}
