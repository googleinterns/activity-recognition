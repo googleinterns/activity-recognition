{
 "cells": [
  {
   "cell_type": "markdown",
   "metadata": {},
   "source": [
    "## Navigate to the Correct Directory\n",
    "\n",
    "The following code navigates to the dataprocessing directory."
   ]
  },
  {
   "cell_type": "code",
   "execution_count": 1,
   "metadata": {
    "scrolled": false,
    "tags": []
   },
   "outputs": [
    {
     "name": "stdout",
     "output_type": "stream",
     "text": [
      "/usr/local/google/home/carverforbes/activity-recognition/location/lbs/activity/audioset/dataprocessing\n"
     ]
    }
   ],
   "source": [
    "cd ../dataprocessing"
   ]
  },
  {
   "cell_type": "markdown",
   "metadata": {},
   "source": [
    "## Call the Import Statements\n",
    "\n",
    "The following code imports the necessary code to run the code in the rest of this notebook."
   ]
  },
  {
   "cell_type": "code",
   "execution_count": 2,
   "metadata": {
    "tags": []
   },
   "outputs": [
    {
     "name": "stdout",
     "output_type": "stream",
     "text": [
      "Ran the import statements.\n"
     ]
    }
   ],
   "source": [
    "# import statements\n",
    "import audio_processing as ap\n",
    "\n",
    "import functools\n",
    "import os\n",
    "import sys\n",
    "import datetime\n",
    "import gc\n",
    "\n",
    "from absl import logging\n",
    "import numpy as np\n",
    "import pandas as pd\n",
    "import tensorflow as tf\n",
    "from tensorflow import keras\n",
    "import matplotlib.pyplot as plt\n",
    "from tensorflow import feature_column\n",
    "from tensorflow.keras import layers\n",
    "from matplotlib import pyplot as plt\n",
    "import sklearn\n",
    "\n",
    "# The following lines adjust the granularity of reporting.\n",
    "pd.options.display.max_rows = 10\n",
    "pd.options.display.float_format = \"{:.1f}\".format\n",
    "\n",
    "print(\"Ran the import statements.\")"
   ]
  },
  {
   "cell_type": "markdown",
   "metadata": {},
   "source": [
    "## Feature Extraction\n",
    "Configure the following parameters to extract the desired features from a specified csv file to a specific destination directory."
   ]
  },
  {
   "cell_type": "code",
   "execution_count": 3,
   "metadata": {},
   "outputs": [],
   "source": [
    "# set logging to print logging.INFO logs\n",
    "logging.set_verbosity(logging.INFO)"
   ]
  },
  {
   "cell_type": "code",
   "execution_count": 4,
   "metadata": {},
   "outputs": [],
   "source": [
    "# arguments for audio_processing\n",
    "src_dir = 'example_src_dir'\n",
    "dest_dir = 'example_dest_dir'\n",
    "filename = 'gunshot_50_50'\n",
    "notebook = 'training_melspectrogram_cnn'\n",
    "labels = ['Gunshot, gunfire']\n",
    "available_features = ['chroma_stft',\n",
    "                       'chroma_cqt',\n",
    "                       'chroma_cens',\n",
    "                       'melspectrogram',\n",
    "                       'mfcc',\n",
    "                       'rms',\n",
    "                       'spectral_centroid',\n",
    "                       'spectral_bandwidth',\n",
    "                       'spectral_contrast',\n",
    "                       'spectral_flatness',\n",
    "                       'spectral_rolloff',\n",
    "                       'poly_features',\n",
    "                       'tonnetz',\n",
    "                       'zero_crossing_rate']\n",
    "features_to_extract = ['melspectrogram']\n",
    "last_features = None\n",
    "redo = False"
   ]
  },
  {
   "cell_type": "code",
   "execution_count": null,
   "metadata": {
    "tags": [
     "outputPrepend"
    ]
   },
   "outputs": [],
   "source": [
    "# Import the dataset as a pandas DataFrame object.\n",
    "features = '_'.join(features_to_extract)\n",
    "csv_path = os.path.join(dest_dir, filename + '_' + features + '.csv')\n",
    "features_changed = last_features is None or features_to_extract != last_features\n",
    "last_features = features_to_extract\n",
    "df = ap.output_df(src_dir, dest_dir, filename, labels, features_to_extract, redo)"
   ]
  },
  {
   "cell_type": "code",
   "execution_count": 6,
   "metadata": {
    "scrolled": false
   },
   "outputs": [
    {
     "data": {
      "text/html": [
       "<div>\n",
       "<style scoped>\n",
       "    .dataframe tbody tr th:only-of-type {\n",
       "        vertical-align: middle;\n",
       "    }\n",
       "\n",
       "    .dataframe tbody tr th {\n",
       "        vertical-align: top;\n",
       "    }\n",
       "\n",
       "    .dataframe thead th {\n",
       "        text-align: right;\n",
       "    }\n",
       "</style>\n",
       "<table border=\"1\" class=\"dataframe\">\n",
       "  <thead>\n",
       "    <tr style=\"text-align: right;\">\n",
       "      <th></th>\n",
       "      <th>label</th>\n",
       "      <th>melspectrogram</th>\n",
       "    </tr>\n",
       "  </thead>\n",
       "  <tbody>\n",
       "    <tr>\n",
       "      <th>0</th>\n",
       "      <td>1</td>\n",
       "      <td>[[3.4134238, 2.5367897, 2.295652, 1.9729736, 1...</td>\n",
       "    </tr>\n",
       "    <tr>\n",
       "      <th>1</th>\n",
       "      <td>1</td>\n",
       "      <td>[[0.009715517, 0.0028677727, 0.001311192, 0.00...</td>\n",
       "    </tr>\n",
       "    <tr>\n",
       "      <th>2</th>\n",
       "      <td>1</td>\n",
       "      <td>[[0.0, 0.0, 0.0, 0.0, 0.0, 0.0, 0.0, 0.0, 0.0,...</td>\n",
       "    </tr>\n",
       "    <tr>\n",
       "      <th>3</th>\n",
       "      <td>1</td>\n",
       "      <td>[[0.17823805, 0.099924825, 0.043443326, 0.1058...</td>\n",
       "    </tr>\n",
       "    <tr>\n",
       "      <th>4</th>\n",
       "      <td>0</td>\n",
       "      <td>[[0.0009629534, 0.0006072721, 0.00039850635, 0...</td>\n",
       "    </tr>\n",
       "  </tbody>\n",
       "</table>\n",
       "</div>"
      ],
      "text/plain": [
       "   label                                     melspectrogram\n",
       "0      1  [[3.4134238, 2.5367897, 2.295652, 1.9729736, 1...\n",
       "1      1  [[0.009715517, 0.0028677727, 0.001311192, 0.00...\n",
       "2      1  [[0.0, 0.0, 0.0, 0.0, 0.0, 0.0, 0.0, 0.0, 0.0,...\n",
       "3      1  [[0.17823805, 0.099924825, 0.043443326, 0.1058...\n",
       "4      0  [[0.0009629534, 0.0006072721, 0.00039850635, 0..."
      ]
     },
     "execution_count": 6,
     "metadata": {},
     "output_type": "execute_result"
    }
   ],
   "source": [
    "# print the first 5 rows of the dataframe.\n",
    "df.head()"
   ]
  },
  {
   "cell_type": "markdown",
   "metadata": {},
   "source": [
    "## Data Preprocessing"
   ]
  },
  {
   "cell_type": "code",
   "execution_count": 7,
   "metadata": {
    "tags": []
   },
   "outputs": [],
   "source": [
    "def fix_dataframe(dataframe):\n",
    "    # temp bug fix for rows with None features\n",
    "    # and rows with different number of elements per frame\n",
    "    bad_rows = []\n",
    "    for i in dataframe.index:\n",
    "        if dataframe.melspectrogram[i] is None:\n",
    "            bad_rows.append(i)\n",
    "        elif dataframe.melspectrogram[i][0] is None:\n",
    "            bad_rows.append(i)\n",
    "        elif len(dataframe.melspectrogram[i]) != 128:\n",
    "            bad_rows.append(i)\n",
    "        elif len(dataframe.melspectrogram[i][0]) != 431:\n",
    "            bad_rows.append(i)\n",
    "    new_dataframe = dataframe.drop(bad_rows)\n",
    "    return new_dataframe"
   ]
  },
  {
   "cell_type": "code",
   "execution_count": 8,
   "metadata": {},
   "outputs": [],
   "source": [
    "# Shuffle the dataset/dataframe.\n",
    "def shuffle_dataframe(dataframe):\n",
    "    dataframe = dataframe.reindex(np.random.permutation(dataframe.index))\n",
    "    return dataframe"
   ]
  },
  {
   "cell_type": "code",
   "execution_count": 9,
   "metadata": {},
   "outputs": [],
   "source": [
    "def dataframe_to_x_y(dataframe):\n",
    "    X = np.array(dataframe.melspectrogram.tolist(), dtype=object)\n",
    "    y = np.array(dataframe.label.tolist())\n",
    "    \n",
    "    # Convert arrays of objects to arrays of floats.\n",
    "    X = tf.keras.backend.cast_to_floatx(X)\n",
    "    y = tf.keras.backend.cast_to_floatx(y)\n",
    "    return X, y"
   ]
  },
  {
   "cell_type": "code",
   "execution_count": 10,
   "metadata": {},
   "outputs": [],
   "source": [
    "def data_preprocessing(dataframe):\n",
    "    print('tossing bad or incongruent data')\n",
    "    dataframe = fix_dataframe(dataframe)\n",
    "    print('shuffling dataframe')\n",
    "    dataframe = shuffle_dataframe(dataframe)\n",
    "    print('getting X, y from dataframe')\n",
    "    X, y = dataframe_to_x_y(dataframe)\n",
    "    x_train, x_val, y_train, y_val = sklearn.model_selection.train_test_split(X, y, test_size=0.2, random_state = 42)\n",
    "    return x_train, y_train, x_val, y_val"
   ]
  },
  {
   "cell_type": "code",
   "execution_count": 11,
   "metadata": {},
   "outputs": [
    {
     "name": "stdout",
     "output_type": "stream",
     "text": [
      "tossing bad or incongruent data\n",
      "shuffling dataframe\n",
      "getting X, y from dataframe\n"
     ]
    }
   ],
   "source": [
    "data = data_preprocessing(df)\n",
    "x_train, y_train, x_val, y_val = data"
   ]
  },
  {
   "cell_type": "markdown",
   "metadata": {},
   "source": [
    "Enter your data preprocessing here."
   ]
  },
  {
   "cell_type": "markdown",
   "metadata": {},
   "source": [
    "## Building and Training Neural Network"
   ]
  },
  {
   "cell_type": "code",
   "execution_count": 12,
   "metadata": {},
   "outputs": [],
   "source": [
    "def make_dir(path):\n",
    "    if not os.path.isdir(path):\n",
    "        try:\n",
    "            os.mkdir(path)\n",
    "        except OSError as error:\n",
    "            logging.error(error)\n",
    "            return False\n",
    "    return True"
   ]
  },
  {
   "cell_type": "code",
   "execution_count": 13,
   "metadata": {
    "tags": []
   },
   "outputs": [
    {
     "name": "stdout",
     "output_type": "stream",
     "text": [
      "Defined the plot_curve function.\n"
     ]
    }
   ],
   "source": [
    "# Define the plotting function.\n",
    "def plot_curve(epochs, hist, dest_path, notebook_filename, dataset_filename, list_of_metrics, list_of_hyperparameters):\n",
    "    \"\"\"Plot a curve of one or more classification metrics vs. epoch and save it to path.\"\"\"  \n",
    "    \n",
    "    plt.figure()\n",
    "    plt.xlabel(\"Epoch\")\n",
    "    plt.ylabel(\"Value\")\n",
    "\n",
    "    for m in list_of_metrics:\n",
    "        x = hist[m]\n",
    "        plt.plot(epochs[1:], x[1:], label=m)\n",
    "\n",
    "    plt.legend()\n",
    "    \n",
    "    make_dir(dest_path)    \n",
    "    path = os.path.join(dest_path, notebook_filename)\n",
    "    make_dir(path)\n",
    "    path = os.path.join(path, dataset_filename)\n",
    "    make_dir(path)\n",
    "        \n",
    "    list_of_hyperparameters_temp = [str(item) for item in list_of_hyperparameters]\n",
    "    filename = '_'.join(list_of_hyperparameters_temp)\n",
    "    path = os.path.join(path, filename + '.png')\n",
    "    plt.savefig(path, bbox_inches='tight')\n",
    "    \n",
    "    return plt\n",
    "\n",
    "\n",
    "print(\"Defined the plot_curve function.\")"
   ]
  },
  {
   "cell_type": "markdown",
   "metadata": {},
   "source": [
    "## Training 1"
   ]
  },
  {
   "cell_type": "code",
   "execution_count": 14,
   "metadata": {
    "tags": []
   },
   "outputs": [
    {
     "name": "stdout",
     "output_type": "stream",
     "text": [
      "Defined the create_model and train_model functions.\n"
     ]
    }
   ],
   "source": [
    "# Define the functions that create and train a model.\n",
    "def create_model(my_learning_rate, my_metrics, optimizer, regularization, regularization_lambda):\n",
    "    \"\"\"Create and compile a simple classification model.\"\"\"\n",
    "    # Discard any pre-existing version of the model.\n",
    "    model = None\n",
    "\n",
    "    model = tf.keras.models.Sequential()\n",
    "              \n",
    "    model.add(tf.keras.layers.Conv2D(filters=16, kernel_size=2, input_shape=(128, 431, 1), activation=activation))\n",
    "    model.add(tf.keras.layers.MaxPooling2D(pool_size=2))\n",
    "    model.add(tf.keras.layers.Dropout(0.2))\n",
    "    \n",
    "    model.add(tf.keras.layers.Conv2D(filters=32, kernel_size=2, activation=activation))\n",
    "    model.add(tf.keras.layers.MaxPooling2D(pool_size=2))\n",
    "    model.add(tf.keras.layers.Dropout(0.2))\n",
    "    \n",
    "    model.add(tf.keras.layers.Conv2D(filters=64, kernel_size=2, activation=activation))\n",
    "    model.add(tf.keras.layers.MaxPooling2D(pool_size=2))\n",
    "    model.add(tf.keras.layers.Dropout(0.2))\n",
    "    \n",
    "    model.add(tf.keras.layers.Conv2D(filters=128, kernel_size=2, activation=activation))\n",
    "    model.add(tf.keras.layers.MaxPooling2D(pool_size=2))\n",
    "    model.add(tf.keras.layers.Dropout(0.2))\n",
    "    \n",
    "    model.add(tf.keras.layers.Flatten(name='Flatten_1'))\n",
    "    \n",
    "    model.add(tf.keras.layers.Dense(units=20, activation=activation,\n",
    "                                    kernel_regularizer=regularization(regularization_lambda),\n",
    "                                    name='Hidden_1'))\n",
    "\n",
    "    # Funnel the regression value through a sigmoid function.\n",
    "    model.add(tf.keras.layers.Dense(units=1, input_shape=(1,),\n",
    "                                  activation=tf.sigmoid,\n",
    "                                  name='Output'))\n",
    "\n",
    "    # Call the compile method to construct the layers into a model that\n",
    "    # TensorFlow can execute.   \n",
    "    model.compile(optimizer=optimizer(lr=my_learning_rate),                                                   \n",
    "                loss=loss,\n",
    "                metrics=my_metrics)\n",
    "\n",
    "    return model        \n",
    "              \n",
    "def train_model(model, features, label, epochs, label_name,\n",
    "                batch_size=None, my_validation_split=0.0,\n",
    "                validation_data=None, shuffle=True):\n",
    "    \"\"\"Feed a dataset into the model in order to train it.\"\"\"\n",
    "\n",
    "    # The x parameter of tf.keras.Model.fit can be a list of arrays.\n",
    "    history = model.fit(x=features, y=label, batch_size=batch_size,\n",
    "                      epochs=epochs, shuffle=shuffle, validation_data=validation_data)\n",
    "    epochs = history.epoch\n",
    "    hist = pd.DataFrame(history.history)\n",
    "\n",
    "    return epochs, hist  \n",
    "\n",
    "print(\"Defined the create_model and train_model functions.\")"
   ]
  },
  {
   "cell_type": "code",
   "execution_count": 15,
   "metadata": {
    "scrolled": true,
    "tags": []
   },
   "outputs": [
    {
     "name": "stdout",
     "output_type": "stream",
     "text": [
      "Model: \"sequential\"\n",
      "_________________________________________________________________\n",
      "Layer (type)                 Output Shape              Param #   \n",
      "=================================================================\n",
      "conv2d (Conv2D)              (None, 127, 430, 16)      80        \n",
      "_________________________________________________________________\n",
      "max_pooling2d (MaxPooling2D) (None, 63, 215, 16)       0         \n",
      "_________________________________________________________________\n",
      "dropout (Dropout)            (None, 63, 215, 16)       0         \n",
      "_________________________________________________________________\n",
      "conv2d_1 (Conv2D)            (None, 62, 214, 32)       2080      \n",
      "_________________________________________________________________\n",
      "max_pooling2d_1 (MaxPooling2 (None, 31, 107, 32)       0         \n",
      "_________________________________________________________________\n",
      "dropout_1 (Dropout)          (None, 31, 107, 32)       0         \n",
      "_________________________________________________________________\n",
      "conv2d_2 (Conv2D)            (None, 30, 106, 64)       8256      \n",
      "_________________________________________________________________\n",
      "max_pooling2d_2 (MaxPooling2 (None, 15, 53, 64)        0         \n",
      "_________________________________________________________________\n",
      "dropout_2 (Dropout)          (None, 15, 53, 64)        0         \n",
      "_________________________________________________________________\n",
      "conv2d_3 (Conv2D)            (None, 14, 52, 128)       32896     \n",
      "_________________________________________________________________\n",
      "max_pooling2d_3 (MaxPooling2 (None, 7, 26, 128)        0         \n",
      "_________________________________________________________________\n",
      "dropout_3 (Dropout)          (None, 7, 26, 128)        0         \n",
      "_________________________________________________________________\n",
      "Flatten_1 (Flatten)          (None, 23296)             0         \n",
      "_________________________________________________________________\n",
      "Hidden_1 (Dense)             (None, 20)                465940    \n",
      "_________________________________________________________________\n",
      "Output (Dense)               (None, 1)                 21        \n",
      "=================================================================\n",
      "Total params: 509,273\n",
      "Trainable params: 509,273\n",
      "Non-trainable params: 0\n",
      "_________________________________________________________________\n",
      "Epoch 1/30\n",
      "351/351 [==============================] - 181s 515ms/step - loss: 1.5968 - accuracy: 0.5318 - precision: 0.4598 - recall: 0.0196 - val_loss: 0.7198 - val_accuracy: 0.5450 - val_precision: 0.0000e+00 - val_recall: 0.0000e+00\n",
      "Epoch 2/30\n",
      "351/351 [==============================] - 198s 565ms/step - loss: 0.7346 - accuracy: 0.5323 - precision: 0.4074 - recall: 0.0054 - val_loss: 0.7137 - val_accuracy: 0.5450 - val_precision: 0.0000e+00 - val_recall: 0.0000e+00\n",
      "Epoch 3/30\n",
      "351/351 [==============================] - 179s 511ms/step - loss: 0.7426 - accuracy: 0.5329 - precision: 0.3077 - recall: 9.7847e-04 - val_loss: 0.7109 - val_accuracy: 0.5450 - val_precision: 0.0000e+00 - val_recall: 0.0000e+00\n",
      "Epoch 4/30\n",
      "351/351 [==============================] - 182s 517ms/step - loss: 0.7545 - accuracy: 0.5318 - precision: 0.3250 - recall: 0.0032 - val_loss: 0.7249 - val_accuracy: 0.5450 - val_precision: 0.0000e+00 - val_recall: 0.0000e+00\n",
      "Epoch 5/30\n",
      "351/351 [==============================] - 189s 539ms/step - loss: 0.7429 - accuracy: 0.5332 - precision: 0.4722 - recall: 0.0042 - val_loss: 0.7063 - val_accuracy: 0.5450 - val_precision: 0.0000e+00 - val_recall: 0.0000e+00\n",
      "Epoch 6/30\n",
      "351/351 [==============================] - 197s 561ms/step - loss: 0.7228 - accuracy: 0.5322 - precision: 0.2963 - recall: 0.0020 - val_loss: 0.7157 - val_accuracy: 0.5450 - val_precision: 0.0000e+00 - val_recall: 0.0000e+00\n",
      "Epoch 7/30\n",
      "351/351 [==============================] - 201s 572ms/step - loss: 0.7269 - accuracy: 0.5321 - precision: 0.2857 - recall: 0.0020 - val_loss: 0.7092 - val_accuracy: 0.5450 - val_precision: 0.0000e+00 - val_recall: 0.0000e+00\n",
      "Epoch 8/30\n",
      "351/351 [==============================] - 225s 640ms/step - loss: 0.6722 - accuracy: 0.5332 - precision: 0.4722 - recall: 0.0042 - val_loss: 0.6101 - val_accuracy: 0.5450 - val_precision: 0.0000e+00 - val_recall: 0.0000e+00\n",
      "Epoch 9/30\n",
      "351/351 [==============================] - 256s 730ms/step - loss: 0.6600 - accuracy: 0.5355 - precision: 0.5882 - recall: 0.0147 - val_loss: 0.5992 - val_accuracy: 0.5541 - val_precision: 0.9545 - val_recall: 0.0211\n",
      "Epoch 10/30\n",
      "351/351 [==============================] - 226s 644ms/step - loss: 0.5900 - accuracy: 0.6743 - precision: 0.8289 - recall: 0.3804 - val_loss: 0.5413 - val_accuracy: 0.6942 - val_precision: 0.8978 - val_recall: 0.3701\n",
      "Epoch 11/30\n",
      "351/351 [==============================] - 253s 720ms/step - loss: 0.5684 - accuracy: 0.7095 - precision: 0.8537 - recall: 0.4555 - val_loss: 0.5921 - val_accuracy: 0.7157 - val_precision: 0.8880 - val_recall: 0.4293\n",
      "Epoch 12/30\n",
      "351/351 [==============================] - 223s 635ms/step - loss: 0.5427 - accuracy: 0.7147 - precision: 0.8593 - recall: 0.4645 - val_loss: 0.5248 - val_accuracy: 0.7330 - val_precision: 0.8468 - val_recall: 0.5045\n",
      "Epoch 13/30\n",
      "351/351 [==============================] - 253s 720ms/step - loss: 0.5373 - accuracy: 0.7146 - precision: 0.8525 - recall: 0.4694 - val_loss: 0.5150 - val_accuracy: 0.7695 - val_precision: 0.8750 - val_recall: 0.5757\n",
      "Epoch 14/30\n",
      "351/351 [==============================] - 250s 713ms/step - loss: 0.5327 - accuracy: 0.7333 - precision: 0.8743 - recall: 0.5002 - val_loss: 0.5622 - val_accuracy: 0.6796 - val_precision: 0.8912 - val_recall: 0.3370\n",
      "Epoch 15/30\n",
      "351/351 [==============================] - 214s 611ms/step - loss: 0.5302 - accuracy: 0.7313 - precision: 0.8760 - recall: 0.4941 - val_loss: 0.6158 - val_accuracy: 0.6755 - val_precision: 0.9360 - val_recall: 0.3079\n",
      "Epoch 16/30\n",
      "351/351 [==============================] - 229s 652ms/step - loss: 0.5170 - accuracy: 0.7362 - precision: 0.8744 - recall: 0.5076 - val_loss: 0.4795 - val_accuracy: 0.7604 - val_precision: 0.8758 - val_recall: 0.5517\n",
      "Epoch 17/30\n",
      "351/351 [==============================] - 234s 666ms/step - loss: 0.5240 - accuracy: 0.7402 - precision: 0.8695 - recall: 0.5215 - val_loss: 0.5193 - val_accuracy: 0.7969 - val_precision: 0.8255 - val_recall: 0.7021\n",
      "Epoch 18/30\n",
      "351/351 [==============================] - 226s 645ms/step - loss: 0.5186 - accuracy: 0.7414 - precision: 0.8818 - recall: 0.5147 - val_loss: 0.5259 - val_accuracy: 0.7910 - val_precision: 0.8442 - val_recall: 0.6630\n",
      "Epoch 19/30\n",
      "351/351 [==============================] - 211s 602ms/step - loss: 0.5104 - accuracy: 0.7392 - precision: 0.8718 - recall: 0.5171 - val_loss: 0.5440 - val_accuracy: 0.7494 - val_precision: 0.8972 - val_recall: 0.5075\n",
      "Epoch 20/30\n",
      "351/351 [==============================] - 238s 678ms/step - loss: 0.5200 - accuracy: 0.7445 - precision: 0.8744 - recall: 0.5281 - val_loss: 0.5349 - val_accuracy: 0.8019 - val_precision: 0.8131 - val_recall: 0.7332\n",
      "Epoch 21/30\n",
      "351/351 [==============================] - 208s 592ms/step - loss: 0.5340 - accuracy: 0.7381 - precision: 0.8685 - recall: 0.5169 - val_loss: 0.5520 - val_accuracy: 0.7846 - val_precision: 0.7844 - val_recall: 0.7262\n",
      "Epoch 22/30\n",
      "351/351 [==============================] - 212s 605ms/step - loss: 0.5144 - accuracy: 0.7425 - precision: 0.8736 - recall: 0.5240 - val_loss: 0.6333 - val_accuracy: 0.8015 - val_precision: 0.7651 - val_recall: 0.8134\n",
      "Epoch 23/30\n",
      "351/351 [==============================] - 253s 720ms/step - loss: 0.5091 - accuracy: 0.7464 - precision: 0.8699 - recall: 0.5367 - val_loss: 0.5342 - val_accuracy: 0.7969 - val_precision: 0.7968 - val_recall: 0.7432\n",
      "Epoch 24/30\n",
      "351/351 [==============================] - 220s 628ms/step - loss: 0.5034 - accuracy: 0.7459 - precision: 0.8689 - recall: 0.5364 - val_loss: 0.5198 - val_accuracy: 0.8051 - val_precision: 0.8084 - val_recall: 0.7492\n",
      "Epoch 25/30\n",
      "351/351 [==============================] - 205s 583ms/step - loss: 0.5058 - accuracy: 0.7510 - precision: 0.8717 - recall: 0.5467 - val_loss: 0.4726 - val_accuracy: 0.7252 - val_precision: 0.9123 - val_recall: 0.4383\n",
      "Epoch 26/30\n"
     ]
    },
    {
     "name": "stdout",
     "output_type": "stream",
     "text": [
      "351/351 [==============================] - 246s 702ms/step - loss: 0.5016 - accuracy: 0.7518 - precision: 0.8726 - recall: 0.5479 - val_loss: 0.5769 - val_accuracy: 0.7887 - val_precision: 0.7582 - val_recall: 0.7864\n",
      "Epoch 27/30\n",
      "351/351 [==============================] - 190s 542ms/step - loss: 0.5009 - accuracy: 0.7587 - precision: 0.8761 - recall: 0.5624 - val_loss: 0.7122 - val_accuracy: 0.7846 - val_precision: 0.7088 - val_recall: 0.8937\n",
      "Epoch 28/30\n",
      "351/351 [==============================] - 191s 546ms/step - loss: 0.4901 - accuracy: 0.7599 - precision: 0.8655 - recall: 0.5746 - val_loss: 0.5347 - val_accuracy: 0.7814 - val_precision: 0.8321 - val_recall: 0.6510\n",
      "Epoch 29/30\n",
      "351/351 [==============================] - 220s 626ms/step - loss: 0.5105 - accuracy: 0.7549 - precision: 0.8722 - recall: 0.5560 - val_loss: 0.5908 - val_accuracy: 0.8097 - val_precision: 0.7736 - val_recall: 0.8225\n",
      "Epoch 30/30\n",
      "351/351 [==============================] - 192s 547ms/step - loss: 0.4943 - accuracy: 0.7614 - precision: 0.8691 - recall: 0.5751 - val_loss: 0.5458 - val_accuracy: 0.7987 - val_precision: 0.8278 - val_recall: 0.7041\n",
      "Training Performance\n",
      "---------------------------------\n",
      "loss:  0.5324856638908386\n",
      "accuracy:  0.8058662414550781\n",
      "precision:  0.8372421860694885\n",
      "recall:  0.7248042821884155\n",
      "\n",
      "Validation Performance\n",
      "---------------------------------\n",
      "loss:  0.5458143949508667\n",
      "accuracy:  0.7987220287322998\n",
      "precision:  0.8278301954269409\n",
      "recall:  0.7041123509407043\n"
     ]
    },
    {
     "data": {
      "image/png": "[encoded data removed]",
      "text/plain": [
       "<Figure size 432x288 with 1 Axes>"
      ]
     },
     "metadata": {
      "needs_background": "light"
     },
     "output_type": "display_data"
    },
    {
     "data": {
      "image/png": "[encoded data removed]",
      "text/plain": [
       "<Figure size 432x288 with 1 Axes>"
      ]
     },
     "metadata": {
      "needs_background": "light"
     },
     "output_type": "display_data"
    }
   ],
   "source": [
    "# The following variables are the hyperparameters.\n",
    "loss = tf.keras.losses.BinaryCrossentropy()\n",
    "activation = 'relu'\n",
    "optimizer = tf.keras.optimizers.RMSprop\n",
    "learning_rate = 0.01\n",
    "epochs = 30\n",
    "batch_size = 25\n",
    "classification_threshold = 0.70\n",
    "regularization = tf.keras.regularizers.l2\n",
    "regularization_lambda = 0.001\n",
    "label_name = \"Gunshot, gunfire\"\n",
    "\n",
    "list_of_hyperparameters = [learning_rate, epochs, batch_size,\n",
    "                           classification_threshold,\n",
    "                           regularization_lambda,\n",
    "                           label_name]\n",
    "\n",
    "\n",
    "# Metrics to measure model performance\n",
    "METRICS = [\n",
    "    tf.keras.metrics.BinaryAccuracy(name='accuracy', threshold=classification_threshold),\n",
    "    tf.keras.metrics.Precision(thresholds=classification_threshold, name='precision'),\n",
    "    tf.keras.metrics.Recall(thresholds=classification_threshold, name=\"recall\"),\n",
    "]\n",
    "\n",
    "x_train1 = x_train.reshape(x_train.shape[0], 128, 431, 1)\n",
    "x_val1 = x_val.reshape(x_val.shape[0], 128, 431, 1)\n",
    "\n",
    "# Create model\n",
    "my_model = create_model(learning_rate, METRICS, optimizer=optimizer, regularization=regularization, regularization_lambda=regularization_lambda)\n",
    "\n",
    "# View the model's structure.\n",
    "my_model.summary()\n",
    "\n",
    "# Train the model on the training set.\n",
    "epochs, hist = train_model(my_model, x_train1, y_train, epochs, \n",
    "                          label_name, batch_size, validation_data=(x_val1, y_val))\n",
    "\n",
    "# Plot metrics vs. epochs\n",
    "list_of_metrics_to_plot = ['accuracy', \"precision\", \"recall\", 'val_accuracy', 'val_precision', 'val_recall'] \n",
    "plot_curve(epochs, hist, dest_dir, notebook, filename, list_of_metrics_to_plot, list_of_hyperparameters)\n",
    "plot_curve(epochs, hist, dest_dir, notebook, filename, ['loss', 'val_loss'], list_of_hyperparameters)\n",
    "\n",
    "training_performance =  my_model.evaluate(x_train1, y_train, verbose=0)\n",
    "print('Training Performance')\n",
    "print('---------------------------------')\n",
    "print('loss: ', training_performance[0])\n",
    "print('accuracy: ', training_performance[1])\n",
    "print('precision: ', training_performance[2])\n",
    "print('recall: ', training_performance[3])\n",
    "print()\n",
    "\n",
    "validation_performance =  my_model.evaluate(x_val1, y_val, verbose=0)\n",
    "print('Validation Performance')\n",
    "print('---------------------------------')\n",
    "print('loss: ', validation_performance[0])\n",
    "print('accuracy: ', validation_performance[1])\n",
    "print('precision: ', validation_performance[2])\n",
    "print('recall: ', validation_performance[3])"
   ]
  },
  {
   "cell_type": "markdown",
   "metadata": {},
   "source": [
    "## Training 2"
   ]
  },
  {
   "cell_type": "code",
   "execution_count": 16,
   "metadata": {
    "tags": []
   },
   "outputs": [
    {
     "name": "stdout",
     "output_type": "stream",
     "text": [
      "Defined the create_model and train_model functions.\n"
     ]
    }
   ],
   "source": [
    "# Define the functions that create and train a model.\n",
    "def create_model(my_learning_rate, my_metrics, optimizer, regularization, regularization_lambda):\n",
    "    \"\"\"Create and compile a simple classification model.\"\"\"\n",
    "    # Discard any pre-existing version of the model.\n",
    "    model = None\n",
    "\n",
    "    model = tf.keras.models.Sequential()\n",
    "              \n",
    "    model.add(tf.keras.layers.Conv2D(filters=16, kernel_size=2, input_shape=(128, 431, 1), activation=activation))\n",
    "    model.add(tf.keras.layers.MaxPooling2D(pool_size=2))\n",
    "    model.add(tf.keras.layers.Dropout(0.2))\n",
    "    \n",
    "    model.add(tf.keras.layers.Conv2D(filters=32, kernel_size=2, activation=activation))\n",
    "    model.add(tf.keras.layers.MaxPooling2D(pool_size=2))\n",
    "    model.add(tf.keras.layers.Dropout(0.2))\n",
    "    \n",
    "    model.add(tf.keras.layers.Conv2D(filters=64, kernel_size=2, activation=activation))\n",
    "    model.add(tf.keras.layers.MaxPooling2D(pool_size=2))\n",
    "    model.add(tf.keras.layers.Dropout(0.2))\n",
    "    \n",
    "    model.add(tf.keras.layers.Conv2D(filters=128, kernel_size=2, activation=activation))\n",
    "    model.add(tf.keras.layers.MaxPooling2D(pool_size=2))\n",
    "    model.add(tf.keras.layers.Dropout(0.2))\n",
    "    \n",
    "    model.add(tf.keras.layers.Conv2D(filters=256, kernel_size=2, activation=activation))\n",
    "    model.add(tf.keras.layers.MaxPooling2D(pool_size=2))\n",
    "    model.add(tf.keras.layers.Dropout(0.2))\n",
    "    \n",
    "    model.add(tf.keras.layers.Flatten(name='Flatten_1'))\n",
    "    \n",
    "    model.add(tf.keras.layers.Dense(units=20, activation=activation,\n",
    "                                    kernel_regularizer=regularization(regularization_lambda),\n",
    "                                    name='Hidden_1'))\n",
    "\n",
    "    # Funnel the regression value through a sigmoid function.\n",
    "    model.add(tf.keras.layers.Dense(units=1, input_shape=(1,),\n",
    "                                  activation=tf.sigmoid,\n",
    "                                  name='Output'))\n",
    "\n",
    "    # Call the compile method to construct the layers into a model that\n",
    "    # TensorFlow can execute.  \n",
    "    model.compile(optimizer=optimizer(lr=my_learning_rate),                                                   \n",
    "                loss=loss,\n",
    "                metrics=my_metrics)\n",
    "\n",
    "    return model        \n",
    "              \n",
    "def train_model(model, features, label, epochs, label_name,\n",
    "                batch_size=None, my_validation_split=0.0,\n",
    "                validation_data=None, shuffle=True):\n",
    "    \"\"\"Feed a dataset into the model in order to train it.\"\"\"\n",
    "    history = model.fit(x=features, y=label, batch_size=batch_size,\n",
    "                      epochs=epochs, shuffle=shuffle, validation_data=validation_data)\n",
    "    epochs = history.epoch\n",
    "    hist = pd.DataFrame(history.history)\n",
    "\n",
    "    return epochs, hist  \n",
    "\n",
    "print(\"Defined the create_model and train_model functions.\")"
   ]
  },
  {
   "cell_type": "code",
   "execution_count": null,
   "metadata": {
    "scrolled": true,
    "tags": []
   },
   "outputs": [
    {
     "name": "stdout",
     "output_type": "stream",
     "text": [
      "Model: \"sequential_1\"\n",
      "_________________________________________________________________\n",
      "Layer (type)                 Output Shape              Param #   \n",
      "=================================================================\n",
      "conv2d_4 (Conv2D)            (None, 127, 430, 16)      80        \n",
      "_________________________________________________________________\n",
      "max_pooling2d_4 (MaxPooling2 (None, 63, 215, 16)       0         \n",
      "_________________________________________________________________\n",
      "dropout_4 (Dropout)          (None, 63, 215, 16)       0         \n",
      "_________________________________________________________________\n",
      "conv2d_5 (Conv2D)            (None, 62, 214, 32)       2080      \n",
      "_________________________________________________________________\n",
      "max_pooling2d_5 (MaxPooling2 (None, 31, 107, 32)       0         \n",
      "_________________________________________________________________\n",
      "dropout_5 (Dropout)          (None, 31, 107, 32)       0         \n",
      "_________________________________________________________________\n",
      "conv2d_6 (Conv2D)            (None, 30, 106, 64)       8256      \n",
      "_________________________________________________________________\n",
      "max_pooling2d_6 (MaxPooling2 (None, 15, 53, 64)        0         \n",
      "_________________________________________________________________\n",
      "dropout_6 (Dropout)          (None, 15, 53, 64)        0         \n",
      "_________________________________________________________________\n",
      "conv2d_7 (Conv2D)            (None, 14, 52, 128)       32896     \n",
      "_________________________________________________________________\n",
      "max_pooling2d_7 (MaxPooling2 (None, 7, 26, 128)        0         \n",
      "_________________________________________________________________\n",
      "dropout_7 (Dropout)          (None, 7, 26, 128)        0         \n",
      "_________________________________________________________________\n",
      "conv2d_8 (Conv2D)            (None, 6, 25, 256)        131328    \n",
      "_________________________________________________________________\n",
      "max_pooling2d_8 (MaxPooling2 (None, 3, 12, 256)        0         \n",
      "_________________________________________________________________\n",
      "dropout_8 (Dropout)          (None, 3, 12, 256)        0         \n",
      "_________________________________________________________________\n",
      "Flatten_1 (Flatten)          (None, 9216)              0         \n",
      "_________________________________________________________________\n",
      "Hidden_1 (Dense)             (None, 20)                184340    \n",
      "_________________________________________________________________\n",
      "Output (Dense)               (None, 1)                 21        \n",
      "=================================================================\n",
      "Total params: 359,001\n",
      "Trainable params: 359,001\n",
      "Non-trainable params: 0\n",
      "_________________________________________________________________\n",
      "Epoch 1/30\n",
      "351/351 [==============================] - 196s 557ms/step - loss: 50.7593 - accuracy: 0.5314 - precision: 0.4357 - recall: 0.0149 - val_loss: 0.7055 - val_accuracy: 0.5450 - val_precision: 0.0000e+00 - val_recall: 0.0000e+00\n",
      "Epoch 2/30\n",
      "351/351 [==============================] - 196s 558ms/step - loss: 0.7419 - accuracy: 0.5331 - precision: 0.4828 - recall: 0.0103 - val_loss: 0.7055 - val_accuracy: 0.5450 - val_precision: 0.0000e+00 - val_recall: 0.0000e+00\n",
      "Epoch 3/30\n",
      "351/351 [==============================] - 194s 554ms/step - loss: 0.7273 - accuracy: 0.5316 - precision: 0.3889 - recall: 0.0068 - val_loss: 0.7033 - val_accuracy: 0.5450 - val_precision: 0.0000e+00 - val_recall: 0.0000e+00\n",
      "Epoch 4/30\n",
      "351/351 [==============================] - 195s 555ms/step - loss: 0.7145 - accuracy: 0.5325 - precision: 0.3889 - recall: 0.0034 - val_loss: 0.7006 - val_accuracy: 0.5450 - val_precision: 0.0000e+00 - val_recall: 0.0000e+00\n",
      "Epoch 5/30\n",
      "351/351 [==============================] - 189s 538ms/step - loss: 0.6704 - accuracy: 0.5995 - precision: 0.7858 - recall: 0.1947 - val_loss: 0.5667 - val_accuracy: 0.6262 - val_precision: 0.9159 - val_recall: 0.1966\n",
      "Epoch 6/30\n",
      "351/351 [==============================] - 233s 662ms/step - loss: 0.5523 - accuracy: 0.6987 - precision: 0.8371 - recall: 0.4398 - val_loss: 0.5503 - val_accuracy: 0.5869 - val_precision: 0.9600 - val_recall: 0.0963\n",
      "Epoch 7/30\n",
      "351/351 [==============================] - 188s 537ms/step - loss: 0.5273 - accuracy: 0.7171 - precision: 0.8524 - recall: 0.4760 - val_loss: 0.4990 - val_accuracy: 0.7385 - val_precision: 0.9223 - val_recall: 0.4644\n",
      "Epoch 8/30\n",
      "351/351 [==============================] - 195s 554ms/step - loss: 0.5186 - accuracy: 0.7342 - precision: 0.8633 - recall: 0.5113 - val_loss: 0.4880 - val_accuracy: 0.6910 - val_precision: 0.9348 - val_recall: 0.3450\n",
      "Epoch 9/30\n",
      "151/351 [===========>..................] - ETA: 1:49 - loss: 0.5058 - accuracy: 0.7375 - precision: 0.8597 - recall: 0.5183"
     ]
    }
   ],
   "source": [
    "# The following variables are the hyperparameters.\n",
    "loss = tf.keras.losses.BinaryCrossentropy()\n",
    "activation = 'relu'\n",
    "optimizer = tf.keras.optimizers.RMSprop\n",
    "learning_rate = 0.01\n",
    "epochs = 30\n",
    "batch_size = 25\n",
    "classification_threshold = 0.70\n",
    "regularization = tf.keras.regularizers.l2\n",
    "regularization_lambda = 0.001\n",
    "label_name = \"label\"\n",
    "\n",
    "list_of_hyperparameters = [learning_rate, epochs, batch_size,\n",
    "                           classification_threshold,\n",
    "                           regularization_lambda,\n",
    "                           label_name]\n",
    "\n",
    "\n",
    "# Here is the updated definition of METRICS:\n",
    "METRICS = [\n",
    "    tf.keras.metrics.BinaryAccuracy(name='accuracy', threshold=classification_threshold),\n",
    "    tf.keras.metrics.Precision(thresholds=classification_threshold, name='precision'),\n",
    "    tf.keras.metrics.Recall(thresholds=classification_threshold, name=\"recall\"),\n",
    "]\n",
    "\n",
    "x_train1 = x_train.reshape(x_train.shape[0], 128, 431, 1)\n",
    "x_val1 = x_val.reshape(x_val.shape[0], 128, 431, 1)\n",
    "\n",
    "# Create model\n",
    "my_model = create_model(learning_rate, METRICS, optimizer=optimizer, regularization=regularization, regularization_lambda=regularization_lambda)\n",
    "\n",
    "# View the model's structure.\n",
    "my_model.summary()\n",
    "\n",
    "# Train the model on the training set.\n",
    "epochs, hist = train_model(my_model, x_train1, y_train, epochs, \n",
    "                          label_name, batch_size, validation_data=(x_val1, y_val))\n",
    "\n",
    "# Plot metrics vs. epochs\n",
    "list_of_metrics_to_plot = ['accuracy', \"precision\", \"recall\", 'val_accuracy', 'val_precision', 'val_recall'] \n",
    "plot_curve(epochs, hist, dest_dir, notebook, filename, list_of_metrics_to_plot, list_of_hyperparameters)\n",
    "plot_curve(epochs, hist, dest_dir, notebook, filename, ['loss', 'val_loss'], list_of_hyperparameters)\n",
    "\n",
    "training_performance =  my_model.evaluate(x_train1, y_train, verbose=0)\n",
    "print('Training Performance')\n",
    "print('---------------------------------')\n",
    "print('loss: ', training_performance[0])\n",
    "print('accuracy: ', training_performance[1])\n",
    "print('precision: ', training_performance[2])\n",
    "print('recall: ', training_performance[3])\n",
    "print()\n",
    "\n",
    "validation_performance =  my_model.evaluate(x_val1, y_val, verbose=0)\n",
    "print('Validation Performance')\n",
    "print('---------------------------------')\n",
    "print('loss: ', validation_performance[0])\n",
    "print('accuracy: ', validation_performance[1])\n",
    "print('precision: ', validation_performance[2])\n",
    "print('recall: ', validation_performance[3])"
   ]
  }
 ],
 "metadata": {
  "kernelspec": {
   "display_name": "Python 3",
   "language": "python",
   "name": "python3"
  },
  "language_info": {
   "codemirror_mode": {
    "name": "ipython",
    "version": 3
   },
   "file_extension": ".py",
   "mimetype": "text/x-python",
   "name": "python",
   "nbconvert_exporter": "python",
   "pygments_lexer": "ipython3",
   "version": "3.8.3"
  }
 },
 "nbformat": 4,
 "nbformat_minor": 4
}
