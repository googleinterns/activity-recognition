{
 "cells": [
  {
   "cell_type": "code",
   "execution_count": 1,
   "metadata": {
    "scrolled": true
   },
   "outputs": [
    {
     "name": "stdout",
     "output_type": "stream",
     "text": [
      "/Users/carverforbes/internships/google/gunshot-detection/activity-recognition/location/lbs/activity/audioset/dataprocessing\n"
     ]
    }
   ],
   "source": [
    "cd ../dataprocessing"
   ]
  },
  {
   "cell_type": "code",
   "execution_count": 2,
   "metadata": {},
   "outputs": [
    {
     "name": "stderr",
     "output_type": "stream",
     "text": [
      "/Users/carverforbes/.pyenv/versions/3.7.7/lib/python3.7/site-packages/pandas/compat/__init__.py:117: UserWarning: Could not import the lzma module. Your installed Python is incomplete. Attempting to use lzma compression will result in a RuntimeError.\n",
      "  warnings.warn(msg)\n"
     ]
    }
   ],
   "source": [
    "import audio_processing as ap\n",
    "\n",
    "import functools\n",
    "import os\n",
    "import sys\n",
    "from absl import logging\n",
    "\n",
    "import numpy as np\n",
    "import pandas as pd\n",
    "import tensorflow as tf\n",
    "from tensorflow import keras\n",
    "import matplotlib.pyplot as plt\n",
    "\n",
    "from keras.models import Sequential\n",
    "from keras.layers import Dense, Dropout, Activation, Flatten\n",
    "from keras.layers import Convolution2D, Conv2D, MaxPooling2D, GlobalAveragePooling2D\n",
    "from keras.optimizers import Adam\n",
    "from keras.utils import to_categorical\n",
    "from keras.utils import np_utils\n",
    "from sklearn import metrics\n",
    "from sklearn.model_selection import train_test_split"
   ]
  },
  {
   "cell_type": "code",
   "execution_count": 3,
   "metadata": {},
   "outputs": [
    {
     "name": "stdout",
     "output_type": "stream",
     "text": [
      "/Users/carverforbes/internships/google/gunshot-detection/activity-recognition/location/lbs/activity/audioset/dataprocessing\n"
     ]
    }
   ],
   "source": [
    "print(os.path.dirname(os.path.realpath('__file__')))"
   ]
  },
  {
   "cell_type": "code",
   "execution_count": 4,
   "metadata": {},
   "outputs": [],
   "source": [
    "debug = False\n",
    "logging.set_verbosity(logging.INFO)"
   ]
  },
  {
   "cell_type": "code",
   "execution_count": 408,
   "metadata": {},
   "outputs": [],
   "source": [
    "src_dir = 'example_src_dir'\n",
    "dest_dir = 'example_dest_dir'\n",
    "# filenames should adhere to the following order\n",
    "# [dataset, validation set, test set]\n",
    "filenames = ['test_set2']\n",
    "labels = ['Gunshot, gunfire']\n",
    "features_to_extract = ['mfcc']"
   ]
  },
  {
   "cell_type": "code",
   "execution_count": 409,
   "metadata": {
    "scrolled": true
   },
   "outputs": [],
   "source": [
    "def get_dataframes():\n",
    "    length = len(filenames)\n",
    "    if length == 3:\n",
    "        dataset_df = ap.output_df(src_dir, dest_dir, filenames[0], labels, features_to_extract)\n",
    "        evaluation_df = ap.output_df(src_dir, dest_dir, filenames[1], labels, features_to_extract)\n",
    "        validation_df = ap.output_df(src_dir, dest_dir, filenames[2], labels, features_to_extract)\n",
    "        dfs = [dataset_df, evaluation_df, validation_df]\n",
    "    elif length == 2:\n",
    "        dataset_df = ap.output_df(src_dir, dest_dir, filenames[0], labels, features_to_extract)\n",
    "        evaluation_df = ap.output_df(src_dir, dest_dir, filenames[1], labels, features_to_extract)\n",
    "        dfs = [dataset_df, evaluation_df]\n",
    "    elif length == 1:\n",
    "        dataset_df = ap.output_df(src_dir, dest_dir, filenames[0], labels, features_to_extract)\n",
    "        dfs = [dataset_df]\n",
    "    else:\n",
    "        raise ValueError('You must have at least one dataset csv and testing data csv')\n",
    "    return dfs"
   ]
  },
  {
   "cell_type": "code",
   "execution_count": 410,
   "metadata": {
    "scrolled": true
   },
   "outputs": [
    {
     "ename": "FileNotFoundError",
     "evalue": "[Errno 2] No such file or directory: 'example_src_dir/test_set2.csv'",
     "output_type": "error",
     "traceback": [
      "\u001b[0;31m---------------------------------------------------------------------------\u001b[0m",
      "\u001b[0;31mFileNotFoundError\u001b[0m                         Traceback (most recent call last)",
      "\u001b[0;32m<ipython-input-410-a1dadd1e1a03>\u001b[0m in \u001b[0;36m<module>\u001b[0;34m\u001b[0m\n\u001b[0;32m----> 1\u001b[0;31m \u001b[0mdfs\u001b[0m \u001b[0;34m=\u001b[0m \u001b[0mget_dataframes\u001b[0m\u001b[0;34m(\u001b[0m\u001b[0;34m)\u001b[0m\u001b[0;34m\u001b[0m\u001b[0;34m\u001b[0m\u001b[0m\n\u001b[0m",
      "\u001b[0;32m<ipython-input-409-22cdd5655a4f>\u001b[0m in \u001b[0;36mget_dataframes\u001b[0;34m()\u001b[0m\n\u001b[1;32m     11\u001b[0m         \u001b[0mdfs\u001b[0m \u001b[0;34m=\u001b[0m \u001b[0;34m[\u001b[0m\u001b[0mdataset_df\u001b[0m\u001b[0;34m,\u001b[0m \u001b[0mevaluation_df\u001b[0m\u001b[0;34m]\u001b[0m\u001b[0;34m\u001b[0m\u001b[0;34m\u001b[0m\u001b[0m\n\u001b[1;32m     12\u001b[0m     \u001b[0;32melif\u001b[0m \u001b[0mlength\u001b[0m \u001b[0;34m==\u001b[0m \u001b[0;36m1\u001b[0m\u001b[0;34m:\u001b[0m\u001b[0;34m\u001b[0m\u001b[0;34m\u001b[0m\u001b[0m\n\u001b[0;32m---> 13\u001b[0;31m         \u001b[0mdataset_df\u001b[0m \u001b[0;34m=\u001b[0m \u001b[0map\u001b[0m\u001b[0;34m.\u001b[0m\u001b[0moutput_df\u001b[0m\u001b[0;34m(\u001b[0m\u001b[0msrc_dir\u001b[0m\u001b[0;34m,\u001b[0m \u001b[0mdest_dir\u001b[0m\u001b[0;34m,\u001b[0m \u001b[0mfilenames\u001b[0m\u001b[0;34m[\u001b[0m\u001b[0;36m0\u001b[0m\u001b[0;34m]\u001b[0m\u001b[0;34m,\u001b[0m \u001b[0mlabels\u001b[0m\u001b[0;34m,\u001b[0m \u001b[0mfeatures_to_extract\u001b[0m\u001b[0;34m)\u001b[0m\u001b[0;34m\u001b[0m\u001b[0;34m\u001b[0m\u001b[0m\n\u001b[0m\u001b[1;32m     14\u001b[0m         \u001b[0mdfs\u001b[0m \u001b[0;34m=\u001b[0m \u001b[0;34m[\u001b[0m\u001b[0mdataset_df\u001b[0m\u001b[0;34m]\u001b[0m\u001b[0;34m\u001b[0m\u001b[0;34m\u001b[0m\u001b[0m\n\u001b[1;32m     15\u001b[0m     \u001b[0;32melse\u001b[0m\u001b[0;34m:\u001b[0m\u001b[0;34m\u001b[0m\u001b[0;34m\u001b[0m\u001b[0m\n",
      "\u001b[0;32m~/internships/google/gunshot-detection/activity-recognition/location/lbs/activity/audioset/dataprocessing/audio_processing.py\u001b[0m in \u001b[0;36moutput_df\u001b[0;34m(src_dir, dest_dir, filename, labels, features_to_extract, scaled, redo)\u001b[0m\n\u001b[1;32m    227\u001b[0m     \u001b[0mlabel_dict\u001b[0m \u001b[0;34m=\u001b[0m \u001b[0maudioset_helper\u001b[0m\u001b[0;34m.\u001b[0m\u001b[0mget_label_dict\u001b[0m\u001b[0;34m(\u001b[0m\u001b[0msrc_dir\u001b[0m\u001b[0;34m)\u001b[0m\u001b[0;34m\u001b[0m\u001b[0;34m\u001b[0m\u001b[0m\n\u001b[1;32m    228\u001b[0m     \u001b[0mlabels_set\u001b[0m \u001b[0;34m=\u001b[0m \u001b[0maudioset_helper\u001b[0m\u001b[0;34m.\u001b[0m\u001b[0mlabel_list_to_set\u001b[0m\u001b[0;34m(\u001b[0m\u001b[0mlabels\u001b[0m\u001b[0;34m,\u001b[0m \u001b[0mlabel_dict\u001b[0m\u001b[0;34m)\u001b[0m\u001b[0;34m\u001b[0m\u001b[0;34m\u001b[0m\u001b[0m\n\u001b[0;32m--> 229\u001b[0;31m     \u001b[0maudio_dict\u001b[0m \u001b[0;34m=\u001b[0m \u001b[0maudioset_helper\u001b[0m\u001b[0;34m.\u001b[0m\u001b[0mparse_metadata\u001b[0m\u001b[0;34m(\u001b[0m\u001b[0msrc_dir\u001b[0m\u001b[0;34m,\u001b[0m \u001b[0mfilename\u001b[0m\u001b[0;34m)\u001b[0m\u001b[0;34m\u001b[0m\u001b[0;34m\u001b[0m\u001b[0m\n\u001b[0m\u001b[1;32m    230\u001b[0m     \u001b[0mcount\u001b[0m \u001b[0;34m=\u001b[0m \u001b[0;36m0\u001b[0m\u001b[0;34m\u001b[0m\u001b[0;34m\u001b[0m\u001b[0m\n\u001b[1;32m    231\u001b[0m     \u001b[0mvid_count\u001b[0m \u001b[0;34m=\u001b[0m \u001b[0;36m0\u001b[0m\u001b[0;34m\u001b[0m\u001b[0;34m\u001b[0m\u001b[0m\n",
      "\u001b[0;32m~/internships/google/gunshot-detection/activity-recognition/location/lbs/activity/audioset/dataprocessing/audioset_helper.py\u001b[0m in \u001b[0;36mparse_metadata\u001b[0;34m(src_dir, filename)\u001b[0m\n\u001b[1;32m     70\u001b[0m         \u001b[0mA\u001b[0m \u001b[0mdictionary\u001b[0m \u001b[0;32mwith\u001b[0m \u001b[0mvideo_id\u001b[0m\u001b[0;34m,\u001b[0m \u001b[0mAudioSetEntry\u001b[0m \u001b[0mkey\u001b[0m\u001b[0;34m-\u001b[0m\u001b[0mvalue\u001b[0m \u001b[0mpairs\u001b[0m\u001b[0;34m.\u001b[0m\u001b[0;34m\u001b[0m\u001b[0;34m\u001b[0m\u001b[0m\n\u001b[1;32m     71\u001b[0m     \"\"\"\n\u001b[0;32m---> 72\u001b[0;31m     \u001b[0mcsv_path\u001b[0m \u001b[0;34m=\u001b[0m \u001b[0mjoin\u001b[0m\u001b[0;34m(\u001b[0m\u001b[0msrc_dir\u001b[0m\u001b[0;34m,\u001b[0m \u001b[0mfilename\u001b[0m \u001b[0;34m+\u001b[0m \u001b[0;34m'.csv'\u001b[0m\u001b[0;34m)\u001b[0m\u001b[0;34m\u001b[0m\u001b[0;34m\u001b[0m\u001b[0m\n\u001b[0m\u001b[1;32m     73\u001b[0m     \u001b[0maudio_dict\u001b[0m \u001b[0;34m=\u001b[0m \u001b[0;34m{\u001b[0m\u001b[0;34m}\u001b[0m\u001b[0;34m\u001b[0m\u001b[0;34m\u001b[0m\u001b[0m\n\u001b[1;32m     74\u001b[0m     \u001b[0;32mwith\u001b[0m \u001b[0mopen\u001b[0m\u001b[0;34m(\u001b[0m\u001b[0mcsv_path\u001b[0m\u001b[0;34m)\u001b[0m \u001b[0;32mas\u001b[0m \u001b[0mcsv_file\u001b[0m\u001b[0;34m:\u001b[0m\u001b[0;34m\u001b[0m\u001b[0;34m\u001b[0m\u001b[0m\n",
      "\u001b[0;31mFileNotFoundError\u001b[0m: [Errno 2] No such file or directory: 'example_src_dir/test_set2.csv'"
     ]
    }
   ],
   "source": [
    "dfs = get_dataframes()"
   ]
  },
  {
   "cell_type": "code",
   "execution_count": 347,
   "metadata": {
    "scrolled": false
   },
   "outputs": [
    {
     "data": {
      "text/html": [
       "<div>\n",
       "<style scoped>\n",
       "    .dataframe tbody tr th:only-of-type {\n",
       "        vertical-align: middle;\n",
       "    }\n",
       "\n",
       "    .dataframe tbody tr th {\n",
       "        vertical-align: top;\n",
       "    }\n",
       "\n",
       "    .dataframe thead th {\n",
       "        text-align: right;\n",
       "    }\n",
       "</style>\n",
       "<table border=\"1\" class=\"dataframe\">\n",
       "  <thead>\n",
       "    <tr style=\"text-align: right;\">\n",
       "      <th></th>\n",
       "      <th>label</th>\n",
       "      <th>mfcc</th>\n",
       "    </tr>\n",
       "  </thead>\n",
       "  <tbody>\n",
       "    <tr>\n",
       "      <th>0</th>\n",
       "      <td>1</td>\n",
       "      <td>[-184.56898, 132.75836, -11.71193, 23.794067, ...</td>\n",
       "    </tr>\n",
       "    <tr>\n",
       "      <th>1</th>\n",
       "      <td>1</td>\n",
       "      <td>[-221.81802, 75.65366, -33.81316, 26.368877, -...</td>\n",
       "    </tr>\n",
       "    <tr>\n",
       "      <th>2</th>\n",
       "      <td>1</td>\n",
       "      <td>[-297.5143, 86.448784, -20.89314, 15.574887, 3...</td>\n",
       "    </tr>\n",
       "    <tr>\n",
       "      <th>3</th>\n",
       "      <td>1</td>\n",
       "      <td>[-98.63254, 84.752304, -34.269104, 25.440754, ...</td>\n",
       "    </tr>\n",
       "    <tr>\n",
       "      <th>4</th>\n",
       "      <td>0</td>\n",
       "      <td>[-250.23927, 81.781395, -41.70156, -6.1225767,...</td>\n",
       "    </tr>\n",
       "  </tbody>\n",
       "</table>\n",
       "</div>"
      ],
      "text/plain": [
       "   label                                               mfcc\n",
       "0      1  [-184.56898, 132.75836, -11.71193, 23.794067, ...\n",
       "1      1  [-221.81802, 75.65366, -33.81316, 26.368877, -...\n",
       "2      1  [-297.5143, 86.448784, -20.89314, 15.574887, 3...\n",
       "3      1  [-98.63254, 84.752304, -34.269104, 25.440754, ...\n",
       "4      0  [-250.23927, 81.781395, -41.70156, -6.1225767,..."
      ]
     },
     "execution_count": 347,
     "metadata": {},
     "output_type": "execute_result"
    }
   ],
   "source": [
    "dataset_df = dfs[0]\n",
    "dataset_df.head()"
   ]
  },
  {
   "cell_type": "code",
   "execution_count": 348,
   "metadata": {},
   "outputs": [
    {
     "data": {
      "text/html": [
       "<div>\n",
       "<style scoped>\n",
       "    .dataframe tbody tr th:only-of-type {\n",
       "        vertical-align: middle;\n",
       "    }\n",
       "\n",
       "    .dataframe tbody tr th {\n",
       "        vertical-align: top;\n",
       "    }\n",
       "\n",
       "    .dataframe thead th {\n",
       "        text-align: right;\n",
       "    }\n",
       "</style>\n",
       "<table border=\"1\" class=\"dataframe\">\n",
       "  <thead>\n",
       "    <tr style=\"text-align: right;\">\n",
       "      <th></th>\n",
       "      <th>label</th>\n",
       "    </tr>\n",
       "  </thead>\n",
       "  <tbody>\n",
       "    <tr>\n",
       "      <th>count</th>\n",
       "      <td>11887.000000</td>\n",
       "    </tr>\n",
       "    <tr>\n",
       "      <th>mean</th>\n",
       "      <td>0.459914</td>\n",
       "    </tr>\n",
       "    <tr>\n",
       "      <th>std</th>\n",
       "      <td>0.498412</td>\n",
       "    </tr>\n",
       "    <tr>\n",
       "      <th>min</th>\n",
       "      <td>0.000000</td>\n",
       "    </tr>\n",
       "    <tr>\n",
       "      <th>25%</th>\n",
       "      <td>0.000000</td>\n",
       "    </tr>\n",
       "    <tr>\n",
       "      <th>50%</th>\n",
       "      <td>0.000000</td>\n",
       "    </tr>\n",
       "    <tr>\n",
       "      <th>75%</th>\n",
       "      <td>1.000000</td>\n",
       "    </tr>\n",
       "    <tr>\n",
       "      <th>max</th>\n",
       "      <td>1.000000</td>\n",
       "    </tr>\n",
       "  </tbody>\n",
       "</table>\n",
       "</div>"
      ],
      "text/plain": [
       "              label\n",
       "count  11887.000000\n",
       "mean       0.459914\n",
       "std        0.498412\n",
       "min        0.000000\n",
       "25%        0.000000\n",
       "50%        0.000000\n",
       "75%        1.000000\n",
       "max        1.000000"
      ]
     },
     "execution_count": 348,
     "metadata": {},
     "output_type": "execute_result"
    }
   ],
   "source": [
    "dataset_df.describe()"
   ]
  },
  {
   "cell_type": "code",
   "execution_count": 349,
   "metadata": {},
   "outputs": [],
   "source": [
    "# shuffle the examples.\n",
    "shuffled_dataset_df = dataset_df.reindex(np.random.permutation(dataset_df.index))"
   ]
  },
  {
   "cell_type": "code",
   "execution_count": 350,
   "metadata": {},
   "outputs": [
    {
     "data": {
      "text/html": [
       "<div>\n",
       "<style scoped>\n",
       "    .dataframe tbody tr th:only-of-type {\n",
       "        vertical-align: middle;\n",
       "    }\n",
       "\n",
       "    .dataframe tbody tr th {\n",
       "        vertical-align: top;\n",
       "    }\n",
       "\n",
       "    .dataframe thead th {\n",
       "        text-align: right;\n",
       "    }\n",
       "</style>\n",
       "<table border=\"1\" class=\"dataframe\">\n",
       "  <thead>\n",
       "    <tr style=\"text-align: right;\">\n",
       "      <th></th>\n",
       "      <th>label</th>\n",
       "      <th>mfcc</th>\n",
       "    </tr>\n",
       "  </thead>\n",
       "  <tbody>\n",
       "    <tr>\n",
       "      <th>4520</th>\n",
       "      <td>1</td>\n",
       "      <td>[-331.50616, 70.97881, 10.602841, 18.129597, -...</td>\n",
       "    </tr>\n",
       "    <tr>\n",
       "      <th>2280</th>\n",
       "      <td>1</td>\n",
       "      <td>[-160.2934, 167.73938, -46.468987, 10.463341, ...</td>\n",
       "    </tr>\n",
       "    <tr>\n",
       "      <th>4166</th>\n",
       "      <td>1</td>\n",
       "      <td>[-144.09352, 79.9243, -24.49275, 29.006422, 20...</td>\n",
       "    </tr>\n",
       "    <tr>\n",
       "      <th>9335</th>\n",
       "      <td>0</td>\n",
       "      <td>[-215.6365, 57.609818, -2.930041, 32.054714, -...</td>\n",
       "    </tr>\n",
       "    <tr>\n",
       "      <th>4247</th>\n",
       "      <td>1</td>\n",
       "      <td>[-132.44101, 107.70003, -19.187098, 15.566606,...</td>\n",
       "    </tr>\n",
       "  </tbody>\n",
       "</table>\n",
       "</div>"
      ],
      "text/plain": [
       "      label                                               mfcc\n",
       "4520      1  [-331.50616, 70.97881, 10.602841, 18.129597, -...\n",
       "2280      1  [-160.2934, 167.73938, -46.468987, 10.463341, ...\n",
       "4166      1  [-144.09352, 79.9243, -24.49275, 29.006422, 20...\n",
       "9335      0  [-215.6365, 57.609818, -2.930041, 32.054714, -...\n",
       "4247      1  [-132.44101, 107.70003, -19.187098, 15.566606,..."
      ]
     },
     "execution_count": 350,
     "metadata": {},
     "output_type": "execute_result"
    }
   ],
   "source": [
    "shuffled_dataset_df.head()"
   ]
  },
  {
   "cell_type": "markdown",
   "metadata": {},
   "source": [
    "Convert features and classification labels into numpy arrays"
   ]
  },
  {
   "cell_type": "code",
   "execution_count": 416,
   "metadata": {},
   "outputs": [
    {
     "name": "stdout",
     "output_type": "stream",
     "text": [
      "[-184.56898     132.75836     -11.71193      23.794067      9.287555\n",
      "    1.8595688    -8.611225     -1.2494123    -7.1121063     1.3319409\n",
      "   -2.1162653     4.8788285    -2.1125126    -2.165405     -3.0978825\n",
      "   -0.4923458    -4.5708847     1.6606334    -3.6571846    -0.44644922]\n",
      "<class 'list'>\n"
     ]
    }
   ],
   "source": [
    "print(dataset_df.mfcc.tolist()[0])\n",
    "print(type(dataset_df.mfcc.tolist()))"
   ]
  },
  {
   "cell_type": "code",
   "execution_count": 351,
   "metadata": {},
   "outputs": [],
   "source": [
    "X = np.array(dataset_df.mfcc.tolist(), dtype=object)\n",
    "y = np.array(dataset_df.label.tolist())"
   ]
  },
  {
   "cell_type": "code",
   "execution_count": 412,
   "metadata": {},
   "outputs": [
    {
     "name": "stdout",
     "output_type": "stream",
     "text": [
      "[[-184.56898498535156 132.75836181640625 -11.711930274963379 ...\n",
      "  1.6606334447860718 -3.657184600830078 -0.4464492201805115]\n",
      " [-221.81802368164062 75.6536636352539 -33.81315994262695 ...\n",
      "  3.6542346477508545 -4.41484260559082 3.335977077484131]\n",
      " [-297.5143127441406 86.44878387451172 -20.89314079284668 ...\n",
      "  1.9453924894332886 -1.6459513902664185 -0.28207695484161377]\n",
      " ...\n",
      " [-112.9557876586914 48.363285064697266 -42.21156692504883 ...\n",
      "  8.270578384399414 -12.235823631286621 3.5574591159820557]\n",
      " [-209.0419464111328 117.4067611694336 -120.09717559814453 ...\n",
      "  -6.554387092590332 2.4371297359466553 -4.09994649887085]\n",
      " [-118.24739074707031 52.66448211669922 -34.98794174194336 ...\n",
      "  12.889138221740723 -0.23585541546344757 5.014429569244385]]\n"
     ]
    }
   ],
   "source": [
    "print(X)"
   ]
  },
  {
   "cell_type": "code",
   "execution_count": 352,
   "metadata": {},
   "outputs": [
    {
     "name": "stdout",
     "output_type": "stream",
     "text": [
      "hey look at me\n",
      "False\n",
      "98\n",
      "hey look at me\n",
      "False\n",
      "984\n",
      "hey look at me\n",
      "False\n",
      "2343\n"
     ]
    }
   ],
   "source": [
    "# Temp bug fix for not marking failed extracted_features as None in audio_processing.py\n",
    "temp_x = []\n",
    "temp_y = []\n",
    "count = 0\n",
    "for arr, label in zip(X, y):\n",
    "    if arr is False:\n",
    "        print('hey look at me')\n",
    "        print(arr)\n",
    "        print(count)\n",
    "        count += 1\n",
    "        continue\n",
    "    temp_x.append(arr)\n",
    "    temp_y.append(label)\n",
    "    count += 1\n",
    "X = np.array(temp_x, dtype=object)\n",
    "y = np.array(temp_y)"
   ]
  },
  {
   "cell_type": "code",
   "execution_count": 129,
   "metadata": {},
   "outputs": [],
   "source": [
    "def get_data_for_model(dfs, ratio):\n",
    "    length = len(dfs)\n",
    "    if length == 3:\n",
    "        train_x = np.array(dfs[0].mfcc.tolist(), dtype=object)\n",
    "        train_y = np.array(dfs[0].label.tolist())\n",
    "        test_x = np.array(dfs[1].mfcc.tolist(), dtype=object)\n",
    "        test_y = np.array(dfs[1].label.tolist())\n",
    "        val_x = np.array(dfs[2].mfcc.tolist(), dtype=object)\n",
    "        val_y = np.array(dfs[2].label.tolist())\n",
    "        return train_x, train_y, val_x, val_y, test_x, test_y\n",
    "    elif length == 2:\n",
    "        train_x = np.array(dfs[0].mfcc.tolist(), dtype=object)\n",
    "        train_y = np.array(dfs[0].label.tolist())\n",
    "        test_x = np.array(dfs[1].mfcc.tolist(), dtype=object)\n",
    "        test_y = np.array(dfs[1].label.tolist())\n",
    "        return train_x, train_y, test_x, test_y\n",
    "    elif length == 1:\n",
    "        X = np.array(dataset_df.mfcc.tolist(), dtype=object)\n",
    "        y = np.array(dataset_df.label.tolist())\n",
    "        train_x, test_x, train_y, test_y = train_test_split(X, y, test_size=0.20, random_state = 42)\n",
    "        return train_x, train_y, test_x, test_y"
   ]
  },
  {
   "cell_type": "markdown",
   "metadata": {},
   "source": [
    "# Split the dataset"
   ]
  },
  {
   "cell_type": "code",
   "execution_count": 367,
   "metadata": {},
   "outputs": [],
   "source": [
    "x_train, x_val, y_train, y_val = train_test_split(X, y, test_size=0.01, random_state = 42)"
   ]
  },
  {
   "cell_type": "code",
   "execution_count": 424,
   "metadata": {},
   "outputs": [
    {
     "name": "stdout",
     "output_type": "stream",
     "text": [
      "<class 'numpy.ndarray'>\n",
      "11765\n",
      "<class 'numpy.ndarray'>\n",
      "20\n",
      "<class 'numpy.float32'>\n",
      "[[-2.2499992e+02  9.4681068e+01 -5.1350737e+00 ...  5.7560575e-01\n",
      "  -2.4995003e+00 -3.7968493e+00]\n",
      " [-4.7804160e+02  7.3084671e+01 -4.4528666e+00 ...  1.0366603e+00\n",
      "   8.2085472e-01  1.7106631e+00]\n",
      " [-1.8254492e+02  1.3210287e+02  7.9709001e+00 ...  2.0403385e+00\n",
      "   1.9990240e+00 -6.9560337e+00]\n",
      " ...\n",
      " [-9.6894470e+01  1.4243033e+02 -4.3870145e-01 ...  3.5237546e+00\n",
      "   1.1300272e-01  3.1918719e+00]\n",
      " [-1.6788121e+02  3.2530495e+01 -2.1086174e+01 ... -4.8411922e+00\n",
      "  -6.3276629e+00 -8.4970945e-01]\n",
      " [-1.5047893e+02  3.5104778e+01 -1.2461868e+01 ... -2.1093254e-01\n",
      "  -5.6124706e+00 -3.2714877e+00]]\n"
     ]
    }
   ],
   "source": [
    "print(type(x_train))\n",
    "print(len(x_train))\n",
    "print(type(x_train[0]))\n",
    "print(x_train[0].size)\n",
    "print(type(x_train[0][0]))\n",
    "print(x_train)"
   ]
  },
  {
   "cell_type": "code",
   "execution_count": 420,
   "metadata": {},
   "outputs": [],
   "source": [
    "# trying to fix bug:\n",
    "# ValueError: Failed to convert a NumPy array to a Tensor (Unsupported object type float).\n",
    "# It worked!!!\n",
    "from keras import backend as K\n",
    "x_train = K.cast_to_floatx(x_train)\n",
    "y_train = K.cast_to_floatx(y_train)\n",
    "x_val = K.cast_to_floatx(x_val)\n",
    "y_val = K.cast_to_floatx(y_val)"
   ]
  },
  {
   "cell_type": "code",
   "execution_count": 369,
   "metadata": {},
   "outputs": [],
   "source": [
    "data = (x_train, x_test, y_train, y_test)"
   ]
  },
  {
   "cell_type": "code",
   "execution_count": 357,
   "metadata": {},
   "outputs": [
    {
     "name": "stdout",
     "output_type": "stream",
     "text": [
      "20\n"
     ]
    }
   ],
   "source": [
    "print(len(x_train[0]))"
   ]
  },
  {
   "cell_type": "code",
   "execution_count": 150,
   "metadata": {},
   "outputs": [],
   "source": [
    "def visualize_training(history, filename):\n",
    "    history_dict = history.history\n",
    "    history_dict.keys()\n",
    "    acc = history_dict['accuracy']\n",
    "#     val_acc = history_dict['val_accuracy']\n",
    "    loss = history_dict['loss']\n",
    "#     val_loss = history_dict['val_loss']\n",
    "\n",
    "    epochs = range(1, len(acc) + 1)\n",
    "\n",
    "    fig, (ax1, ax2) = plt.subplots(1, 2, figsize=(15,7))\n",
    "    \n",
    "    # \"bo\" is for \"blue dot\"\n",
    "    ax1.plot(epochs, loss, 'bo', label='Training loss')\n",
    "    # b is for \"solid blue line\"\n",
    "#     ax1.plot(epochs, val_loss, 'b', label='Validation loss')\n",
    "    ax1.set_title('Training loss')\n",
    "    ax1.set_xlabel('Epochs')\n",
    "    ax1.set_ylabel('Loss')\n",
    "    ax1.legend()\n",
    "    \n",
    "    ax2.plot(epochs, acc, 'bo', label='Training acc')\n",
    "#     ax2.plot(epochs, val_acc, 'b', label='Validation acc')\n",
    "    ax2.set_title('Training accuracy')\n",
    "    ax2.set_xlabel('Epochs')\n",
    "    ax2.set_ylabel('Accuracy')\n",
    "    ax2.legend(loc='lower right')\n",
    "    \n",
    "    plt.savefig(filename, bbox_inches='tight')\n",
    "    plt.show()\n"
   ]
  },
  {
   "cell_type": "code",
   "execution_count": 175,
   "metadata": {},
   "outputs": [],
   "source": [
    "def model_config1(activation, optimizer, metrics):\n",
    "    model = keras.Sequential([\n",
    "        keras.Input(shape=(20,)),\n",
    "        keras.layers.Dense(20, activation='relu'),\n",
    "        keras.layers.Dense(1, activation='softmax')\n",
    "    ])\n",
    "    model.compile(optimizer=optimizer,\n",
    "#         loss=tf.keras.losses.BinaryCrossentropy(from_logits=True),\n",
    "#         loss='binary_crossentropy',\n",
    "        loss='mean_squared_error',\n",
    "        metrics=metrics)\n",
    "    return model"
   ]
  },
  {
   "cell_type": "code",
   "execution_count": 176,
   "metadata": {},
   "outputs": [],
   "source": [
    "def model_train1(model, data, epochs):\n",
    "    x_train, x_test, y_train, y_test = data\n",
    "    history = model.fit(x_train,\n",
    "                        y_train,\n",
    "                        epochs=epochs,\n",
    "                        verbose=1,\n",
    "                        use_multiprocessing=False\n",
    "    )\n",
    "    return history"
   ]
  },
  {
   "cell_type": "code",
   "execution_count": 168,
   "metadata": {},
   "outputs": [],
   "source": [
    "def print_performance(history):\n",
    "    loss = history.history.get('loss')\n",
    "    accuracy = history.history.get('accuracy')\n",
    "    tp = history.history.get('tp')\n",
    "    fp = history.history.get('fp')\n",
    "    tn = history.history.get('tn')\n",
    "    fn = history.history.get('fn')\n",
    "    print('Loss: {}'.format(loss))\n",
    "    print('accuracy: {}'.format(accuracy))\n",
    "    print('True Positives: {}'.format(tp))\n",
    "    print('False Positives: {}'.format(fp))\n",
    "    print('True Negatives: {}'.format(tn))\n",
    "    print('False Negatives: {}'.format(fn))\n",
    "    prec = []\n",
    "    rec = []\n",
    "    f1 = []\n",
    "    for tp1, fp1 in list(zip(tp, fp)):\n",
    "        prec.append(precision(tp1, fp1))\n",
    "    for tp1, fn1 in list(zip(tp, fn)):\n",
    "        rec.append(recall(tp1, fn1))\n",
    "    for rec1, prec1 in list(zip(rec, prec)):\n",
    "        f1.append(f1score(rec1, prec1))\n",
    "        print('Recall: {}'.format(rec))\n",
    "    print('Precision: {}'.format(prec))\n",
    "    print('F1-Score: {}'.format(f1))"
   ]
  },
  {
   "cell_type": "code",
   "execution_count": 169,
   "metadata": {},
   "outputs": [],
   "source": [
    "def precision(tp, fp):\n",
    "    sum = tp + fp\n",
    "    if sum == 0:\n",
    "        return 0\n",
    "    return tp / sum"
   ]
  },
  {
   "cell_type": "code",
   "execution_count": 170,
   "metadata": {},
   "outputs": [],
   "source": [
    "def recall(tp, fn):\n",
    "    sum = tp + fn\n",
    "    if sum == 0:\n",
    "        return 0\n",
    "    return tp / sum"
   ]
  },
  {
   "cell_type": "code",
   "execution_count": 171,
   "metadata": {},
   "outputs": [],
   "source": [
    "def f1score(recall, precision):\n",
    "    sum = recall + precision\n",
    "    if sum == 0:\n",
    "        return 0\n",
    "    return 2 * recall * precision / sum"
   ]
  },
  {
   "cell_type": "code",
   "execution_count": 397,
   "metadata": {},
   "outputs": [],
   "source": [
    "def build_model(activation, optimization, loss, my_learning_rate, metrics):\n",
    "    \"\"\"Create and compile a simple neural network\"\"\"\n",
    "    # create sequential model with one or more layers\n",
    "    # Describe the topography of the model.\n",
    "    model = keras.Sequential([\n",
    "        keras.Input(shape=(20,)),\n",
    "#         keras.layers.Dense(1, activation='softmax')\n",
    "        keras.layers.Dense(1,)\n",
    "    ])\n",
    "    \n",
    "    # Compile the model topography into code that \n",
    "    # TensorFlow can efficiently execute. Configure \n",
    "    # training to minimize the model's mean squared error. \n",
    "    model.compile(optimizer=tf.keras.optimizers.RMSprop(lr=my_learning_rate),\n",
    "        loss=\"mean_squared_error\",\n",
    "        metrics=metrics\n",
    "    )\n",
    "    return model           \n",
    "    "
   ]
  },
  {
   "cell_type": "code",
   "execution_count": 398,
   "metadata": {},
   "outputs": [],
   "source": [
    "def train_model(model, features, label, epochs, batch_size):\n",
    "    \"\"\"Train the model by feeding it data.\"\"\"\n",
    "\n",
    "    # Feed the feature values and the label values to the \n",
    "    # model. The model will train for the specified number \n",
    "    # of epochs, gradually learning how the feature values\n",
    "    # relate to the label values. \n",
    "    history = model.fit(\n",
    "        x=features,\n",
    "        y=label,\n",
    "        batch_size=batch_size,\n",
    "        epochs=epochs,\n",
    "        verbose=1,\n",
    "        use_multiprocessing=False                \n",
    "    )\n",
    "    return history"
   ]
  },
  {
   "cell_type": "code",
   "execution_count": 399,
   "metadata": {},
   "outputs": [
    {
     "name": "stdout",
     "output_type": "stream",
     "text": [
      "Defined the plot_the_model and plot_the_loss_curve functions.\n"
     ]
    }
   ],
   "source": [
    "def plot_the_loss_curve(epochs, rmse):\n",
    "  \"\"\"Plot the loss curve, which shows loss vs. epoch.\"\"\"\n",
    "\n",
    "  plt.figure()\n",
    "  plt.xlabel(\"Epoch\")\n",
    "  plt.ylabel(\"Root Mean Squared Error\")\n",
    "\n",
    "  plt.plot(epochs, rmse, label=\"Loss\")\n",
    "  plt.legend()\n",
    "  plt.ylim([rmse.min()*0.97, rmse.max() + 0.05])\n",
    "  plt.show()\n",
    "\n",
    "print(\"Defined the plot_the_model and plot_the_loss_curve functions.\")"
   ]
  },
  {
   "cell_type": "code",
   "execution_count": 411,
   "metadata": {
    "scrolled": true
   },
   "outputs": [
    {
     "name": "stdout",
     "output_type": "stream",
     "text": [
      "Epoch 1/10\n",
      "1177/1177 [==============================] - 1s 887us/step - loss: 1272.3350 - accuracy: 0.4807 - rmse: 35.6698 0s - loss: 1549.6793 - accuracy: 0.4804 - rmse: 39.\n",
      "Epoch 2/10\n",
      "1177/1177 [==============================] - 1s 959us/step - loss: 3.8400 - accuracy: 0.4967 - rmse: 1.9596\n",
      "Epoch 3/10\n",
      "1177/1177 [==============================] - 1s 1ms/step - loss: 0.3023 - accuracy: 0.5562 - rmse: 0.5498\n",
      "Epoch 4/10\n",
      "1177/1177 [==============================] - 1s 890us/step - loss: 0.2991 - accuracy: 0.5556 - rmse: 0.5469\n",
      "Epoch 5/10\n",
      "1177/1177 [==============================] - 1s 856us/step - loss: 0.2946 - accuracy: 0.5630 - rmse: 0.5428\n",
      "Epoch 6/10\n",
      "1177/1177 [==============================] - 1s 859us/step - loss: 0.3002 - accuracy: 0.5538 - rmse: 0.5479\n",
      "Epoch 7/10\n",
      "1177/1177 [==============================] - 1s 855us/step - loss: 0.2972 - accuracy: 0.5622 - rmse: 0.5452\n",
      "Epoch 8/10\n",
      "1177/1177 [==============================] - 1s 845us/step - loss: 0.2964 - accuracy: 0.5569 - rmse: 0.5445\n",
      "Epoch 9/10\n",
      "1177/1177 [==============================] - 1s 890us/step - loss: 0.2955 - accuracy: 0.5543 - rmse: 0.5436\n",
      "Epoch 10/10\n",
      "1177/1177 [==============================] - 1s 952us/step - loss: 0.2940 - accuracy: 0.5634 - rmse: 0.5422\n"
     ]
    }
   ],
   "source": [
    "path = os.path.join(dest_dir, 'results1')\n",
    "\n",
    "# Hyperparameters\n",
    "my_learning_rate = 0.001\n",
    "optimizer_list = ['adadelta', \n",
    "                  'adagrad', \n",
    "                  'adam', \n",
    "                  'adamax', \n",
    "                  'ftrl', \n",
    "                  'nadam', \n",
    "                  'rmsprop', \n",
    "                  'sgd']\n",
    "\n",
    "metrics = [\n",
    "    'accuracy',\n",
    "#     keras.metrics.TruePositives(name='tp'),\n",
    "#     keras.metrics.FalsePositives(name='fp'),\n",
    "#     keras.metrics.TrueNegatives(name='tn'),\n",
    "#     keras.metrics.FalseNegatives(name='fn'),\n",
    "    keras.metrics.RootMeanSquaredError(name='rmse'),\n",
    "]\n",
    "epochs = 10\n",
    "batch_size = 10\n",
    "\n",
    "# model = model_config1('softmax', 'adam', metrics)\n",
    "# history = model_train1(model, data, 20)\n",
    "# visualize_training(history, path)\n",
    "\n",
    "# build and train model\n",
    "model = build_model(\n",
    "    'relu',\n",
    "    keras.optimizers.SGD(lr=my_learning_rate),\n",
    "    'mean_squared_error',\n",
    "    my_learning_rate,\n",
    "    metrics\n",
    ")\n",
    "history = train_model(model, x_train, y_train, epochs, batch_size)"
   ]
  },
  {
   "cell_type": "code",
   "execution_count": 407,
   "metadata": {
    "scrolled": true
   },
   "outputs": [
    {
     "name": "stdout",
     "output_type": "stream",
     "text": [
      "dict_keys(['loss', 'accuracy', 'rmse']) \n",
      "\n",
      "loss: [158.35382080078125, 0.9848534464836121, 0.2991785407066345, 0.2973055839538574, 0.29546764492988586, 0.2958683669567108, 0.29636743664741516, 0.2923118770122528, 0.2949579060077667, 0.2965102195739746] \n",
      "\n",
      "accuracy: [0.4776030480861664, 0.5377815365791321, 0.552571177482605, 0.562515914440155, 0.5587760210037231, 0.5624309182167053, 0.5569911003112793, 0.5596259832382202, 0.5601360201835632, 0.5595409870147705] \n",
      "\n",
      "Root Mean Squared Error: [12.583871841430664, 0.9923978447914124, 0.5469721555709839, 0.5452573299407959, 0.5435693264007568, 0.5439378619194031, 0.5443964004516602, 0.5406587719917297, 0.5431002974510193, 0.544527530670166] \n",
      "\n"
     ]
    },
    {
     "data": {
      "image/png": "[encoded data removed]",
      "text/plain": [
       "<Figure size 432x288 with 1 Axes>"
      ]
     },
     "metadata": {
      "needs_background": "light"
     },
     "output_type": "display_data"
    },
    {
     "name": "stdout",
     "output_type": "stream",
     "text": [
      "Validation loss: 0.25757136940956116\n",
      "Validation accuracy: 0.6218487620353699\n",
      "Validation rmse: 0.5075148940086365\n"
     ]
    }
   ],
   "source": [
    "# print and visualize results\n",
    "print(history.history.keys(), '\\n')\n",
    "print('loss:', history.history['loss'], '\\n')\n",
    "print('accuracy:', history.history['accuracy'], '\\n')\n",
    "# print('True Positive:', history.history['tp'], '\\n')\n",
    "# print('False Positive:', history.history['fp'], '\\n')\n",
    "# print('True Negative:', history.history['tn'], '\\n')\n",
    "# print('False Negative:', history.history['fn'], '\\n')\n",
    "print('Root Mean Squared Error:', history.history['rmse'], '\\n')\n",
    "hist = pd.DataFrame(history.history)\n",
    "plot_the_loss_curve(history.epoch, hist[\"rmse\"])\n",
    "\n",
    "# print_performance(history)\n",
    "score = model.evaluate(x_val, y_val, verbose=0)\n",
    "print('Validation loss:', score[0])\n",
    "print('Validation accuracy:', score[1])\n",
    "print('Validation rmse:', score[2])"
   ]
  },
  {
   "cell_type": "code",
   "execution_count": 405,
   "metadata": {
    "scrolled": true
   },
   "outputs": [
    {
     "name": "stdout",
     "output_type": "stream",
     "text": [
      "feature   label          predicted\n",
      "  value   value          value\n",
      "                                  \n",
      "--------------------------------------\n",
      "           1               0\n",
      "           0               1\n",
      "           1               0\n",
      "           1               0\n",
      "           1               0\n",
      "           1               1\n",
      "           0               1\n",
      "           0              -0\n",
      "           0               0\n",
      "           0               0\n"
     ]
    }
   ],
   "source": [
    "# print(dataset_df['mfcc'][5845:5845 + 10])\n",
    "# print(dataset_df['label'][5845:5845 + 10])\n",
    "def predict_gunshot(n, feature, label, model):\n",
    "  \"\"\"Predict house values based on a feature.\"\"\"\n",
    "\n",
    "  batch = K.cast_to_floatx(dataset_df[feature][5845:5845 + n].tolist())\n",
    "  predicted_values = model.predict_on_batch(x=batch)\n",
    "#   print(predicted_values)\n",
    "#   print(predicted_values[0][0])\n",
    "#   print(type(predicted_values[0][0]))\n",
    "\n",
    "  print(\"feature   label          predicted\")\n",
    "  print(\"  value   value          value\")\n",
    "  print(\"                                  \")\n",
    "  print(\"--------------------------------------\")\n",
    "  for i in range(n):\n",
    "    print (\"%5.0s %6.0f %15.0f\" % ('feature',\n",
    "                                   dataset_df[label][5845 + i],\n",
    "                                   predicted_values[i][0]))\n",
    "predict_gunshot(10, 'mfcc', 'label', model)"
   ]
  },
  {
   "cell_type": "code",
   "execution_count": null,
   "metadata": {},
   "outputs": [],
   "source": []
  }
 ],
 "metadata": {
  "kernelspec": {
   "display_name": "Python 3",
   "language": "python",
   "name": "python3"
  },
  "language_info": {
   "codemirror_mode": {
    "name": "ipython",
    "version": 3
   },
   "file_extension": ".py",
   "mimetype": "text/x-python",
   "name": "python",
   "nbconvert_exporter": "python",
   "pygments_lexer": "ipython3",
   "version": "3.7.7"
  }
 },
 "nbformat": 4,
 "nbformat_minor": 4
}
