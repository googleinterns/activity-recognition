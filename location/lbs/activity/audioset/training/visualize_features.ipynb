{
 "cells": [
  {
   "cell_type": "markdown",
   "metadata": {},
   "source": [
    "Gunshot Example vs Non Gunshot Example\n",
    "gunshot example link: https://www.youtube.com/watch?v=-gPM1IQBHkc\n",
    "non gunshot example link: https://www.youtube.com/watch?v=HMp3VHakVKw"
   ]
  },
  {
   "cell_type": "code",
   "execution_count": 1,
   "metadata": {},
   "outputs": [],
   "source": [
    "cd ../dataprocessing"
   ]
  },
  {
   "cell_type": "code",
   "execution_count": 22,
   "metadata": {},
   "outputs": [],
   "source": [
    "# import statements\n",
    "import audio_processing as ap\n",
    "\n",
    "import functools\n",
    "import os\n",
    "import sys\n",
    "from absl import logging\n",
    "\n",
    "import numpy as np\n",
    "import pandas as pd\n",
    "import tensorflow as tf\n",
    "from tensorflow import keras\n",
    "import matplotlib.pyplot as plt\n",
    "import librosa\n",
    "\n",
    "from keras.models import Sequential\n",
    "from keras.layers import Dense, Dropout, Activation, Flatten\n",
    "from keras.layers import Convolution2D, Conv2D, MaxPooling2D, GlobalAveragePooling2D\n",
    "from keras.optimizers import Adam\n",
    "from keras.utils import to_categorical\n",
    "from keras.utils import np_utils\n",
    "import sklearn\n",
    "from sklearn import metrics\n",
    "from sklearn.model_selection import train_test_split"
   ]
  },
  {
   "cell_type": "code",
   "execution_count": 3,
   "metadata": {},
   "outputs": [],
   "source": [
    "# set logging to print logging.INFO logs\n",
    "logging.set_verbosity(logging.INFO)"
   ]
  },
  {
   "cell_type": "code",
   "execution_count": 4,
   "metadata": {},
   "outputs": [],
   "source": [
    "# arguments for audio_processing\n",
    "src_dir = 'example_src_dir'\n",
    "dest_dir = 'example_dest_dir'\n",
    "filename = 'visualize_features'\n",
    "labels = ['Gunshot, gunfire']\n",
    "features_to_extract = ['chroma_stft',\n",
    "                       'chroma_cqt',\n",
    "                       'chroma_cens',\n",
    "                       'melspectrogram',\n",
    "                       'mfcc',\n",
    "                       'rms',\n",
    "                       'spectral_centroid',\n",
    "                       'spectral_bandwidth',\n",
    "                       'spectral_contrast',\n",
    "                       'spectral_flatness',\n",
    "                       'spectral_rolloff',\n",
    "                       'poly_features',\n",
    "                       'tonnetz',\n",
    "                       'zero_crossing_rate'\n",
    "]"
   ]
  },
  {
   "cell_type": "code",
   "execution_count": 5,
   "metadata": {
    "collapsed": true
   },
   "outputs": [
    {
     "name": "stderr",
     "output_type": "stream",
     "text": [
      "INFO:absl:The set has 2 examples\n"
     ]
    },
    {
     "name": "stdout",
     "output_type": "stream",
     "text": [
      "downloading video\n",
      "[youtube] -gPM1IQBHkc: Downloading webpage\n",
      "[download] Destination: example_dest_dir/tmp/-gPM1IQBHkc.m4a\n",
      "[download] 100% of 922.89KiB in 00:0019MiB/s ETA 00:001\n",
      "[ffmpeg] Correcting container in \"example_dest_dir/tmp/-gPM1IQBHkc.m4a\"\n",
      "[ffmpeg] Post-process file example_dest_dir/tmp/-gPM1IQBHkc.m4a exists, skipping\n"
     ]
    },
    {
     "name": "stderr",
     "output_type": "stream",
     "text": [
      "INFO:absl:Download Complete\n",
      "INFO:absl:chopped_audio\n"
     ]
    },
    {
     "name": "stdout",
     "output_type": "stream",
     "text": [
      "downloading video\n",
      "[youtube] HMp3VHakVKw: Downloading webpage\n",
      "[download] Destination: example_dest_dir/tmp/HMp3VHakVKw.webm\n",
      "[download] 100% of 2.29MiB in 00:0027MiB/s ETA 00:0002\n",
      "[ffmpeg] Destination: example_dest_dir/tmp/HMp3VHakVKw.opus\n",
      "Deleting original file example_dest_dir/tmp/HMp3VHakVKw.webm (pass -k to keep)\n"
     ]
    },
    {
     "name": "stderr",
     "output_type": "stream",
     "text": [
      "INFO:absl:Download Complete\n",
      "INFO:absl:chopped_audio\n",
      "INFO:absl:2 examples successfully downloaded\n",
      "INFO:absl:Time to download: 4.436887\n",
      "INFO:absl:extracted features\n",
      "INFO:absl:extracted features\n",
      "INFO:absl:extracted features\n",
      "INFO:absl:extracted features\n",
      "INFO:absl:extracted features\n",
      "INFO:absl:extracted features\n",
      "INFO:absl:extracted features\n",
      "INFO:absl:extracted features\n",
      "INFO:absl:extracted features\n",
      "INFO:absl:extracted features\n",
      "INFO:absl:extracted features\n",
      "INFO:absl:extracted features\n",
      "INFO:absl:extracted features\n",
      "INFO:absl:extracted features\n",
      "INFO:absl:(0, 12.692205)\n",
      "INFO:absl:extracted features\n",
      "INFO:absl:extracted features\n",
      "INFO:absl:extracted features\n",
      "INFO:absl:extracted features\n",
      "INFO:absl:extracted features\n",
      "INFO:absl:extracted features\n",
      "INFO:absl:extracted features\n",
      "INFO:absl:extracted features\n",
      "INFO:absl:extracted features\n",
      "INFO:absl:extracted features\n",
      "INFO:absl:extracted features\n",
      "INFO:absl:extracted features\n",
      "INFO:absl:extracted features\n",
      "INFO:absl:extracted features\n",
      "INFO:absl:(1, 20.559427)\n",
      "INFO:absl:There are 1 positive examples\n",
      "INFO:absl:Time to extract features: 16.123871\n",
      "INFO:absl:Time to create dataframe: 4.439761\n",
      "INFO:absl:Total time to produce dataframe: 20.564486\n"
     ]
    }
   ],
   "source": [
    "# Import the dataset\n",
    "df = ap.output_df(src_dir, dest_dir, filename, labels, features_to_extract, False, redo=True)"
   ]
  },
  {
   "cell_type": "code",
   "execution_count": 16,
   "metadata": {
    "scrolled": true
   },
   "outputs": [
    {
     "data": {
      "text/html": [
       "<div>\n",
       "<style scoped>\n",
       "    .dataframe tbody tr th:only-of-type {\n",
       "        vertical-align: middle;\n",
       "    }\n",
       "\n",
       "    .dataframe tbody tr th {\n",
       "        vertical-align: top;\n",
       "    }\n",
       "\n",
       "    .dataframe thead th {\n",
       "        text-align: right;\n",
       "    }\n",
       "</style>\n",
       "<table border=\"1\" class=\"dataframe\">\n",
       "  <thead>\n",
       "    <tr style=\"text-align: right;\">\n",
       "      <th></th>\n",
       "      <th>label</th>\n",
       "      <th>chroma_stft</th>\n",
       "      <th>chroma_cqt</th>\n",
       "      <th>chroma_cens</th>\n",
       "      <th>melspectrogram</th>\n",
       "      <th>mfcc</th>\n",
       "      <th>rms</th>\n",
       "      <th>spectral_centroid</th>\n",
       "      <th>spectral_bandwidth</th>\n",
       "      <th>spectral_contrast</th>\n",
       "      <th>spectral_flatness</th>\n",
       "      <th>spectral_rolloff</th>\n",
       "      <th>poly_features</th>\n",
       "      <th>tonnetz</th>\n",
       "      <th>zero_crossing_rate</th>\n",
       "    </tr>\n",
       "  </thead>\n",
       "  <tbody>\n",
       "    <tr>\n",
       "      <th>0</th>\n",
       "      <td>1</td>\n",
       "      <td>[[0.0, 0.0, 0.0, 0.0, 0.7836249, 0.54285324, 0...</td>\n",
       "      <td>[[0.09258408397838813, 0.29281937134384245, 0....</td>\n",
       "      <td>[[0.22369786432146194, 0.22729126207787814, 0....</td>\n",
       "      <td>[[0.0, 0.0, 0.0, 0.0, 0.0016109014, 0.25045666...</td>\n",
       "      <td>[[-657.38403, -657.38403, -657.38403, -657.384...</td>\n",
       "      <td>[[0.0, 0.0, 0.0, 0.0, 0.0046520517, 0.03861855...</td>\n",
       "      <td>[[0.0, 0.0, 0.0, 0.0, 2015.3045826157543, 2313...</td>\n",
       "      <td>[[0.0, 0.0, 0.0, 0.0, 2615.098141918859, 2695....</td>\n",
       "      <td>[[10.014450030697795, 10.014450030697795, 10.0...</td>\n",
       "      <td>[[1.0000007, 1.0000007, 1.0000007, 1.0000007, ...</td>\n",
       "      <td>[[0.0, 0.0, 0.0, 0.0, 5081.8359375, 5663.23242...</td>\n",
       "      <td>[[0.0, 0.0, 0.0, 0.0, -1.6424078469954708e-06,...</td>\n",
       "      <td>[[-0.28102570774648, -0.13740358999520996, -0....</td>\n",
       "      <td>[[0.0582312925170068, 0.060045351473922905, 0....</td>\n",
       "    </tr>\n",
       "    <tr>\n",
       "      <th>1</th>\n",
       "      <td>0</td>\n",
       "      <td>[[0.23179506, 0.24008964, 0.19523025, 0.307452...</td>\n",
       "      <td>[[0.4335042444372439, 0.5997672061197934, 0.36...</td>\n",
       "      <td>[[0.2991746992028136, 0.303567161079119, 0.307...</td>\n",
       "      <td>[[0.019795934, 0.01764908, 0.014517155, 0.0464...</td>\n",
       "      <td>[[-393.32425, -358.65057, -305.81363, -292.944...</td>\n",
       "      <td>[[0.024666155, 0.03652693, 0.04397792, 0.05069...</td>\n",
       "      <td>[[632.6626973078273, 697.5850027667651, 708.91...</td>\n",
       "      <td>[[1206.4440610764414, 1120.9771299846254, 1004...</td>\n",
       "      <td>[[13.59012782288142, 18.6156827850104, 17.3921...</td>\n",
       "      <td>[[0.00010328917, 0.00030978382, 0.00022840177,...</td>\n",
       "      <td>[[764.4287109375, 861.328125, 968.994140625, 9...</td>\n",
       "      <td>[[-8.54170786207522e-05, -8.969041815871419e-0...</td>\n",
       "      <td>[[-0.04785370478493173, 0.016290546483931523, ...</td>\n",
       "      <td>[[0.020045351473922904, 0.02145124716553288, 0...</td>\n",
       "    </tr>\n",
       "  </tbody>\n",
       "</table>\n",
       "</div>"
      ],
      "text/plain": [
       "   label                                        chroma_stft  \\\n",
       "0      1  [[0.0, 0.0, 0.0, 0.0, 0.7836249, 0.54285324, 0...   \n",
       "1      0  [[0.23179506, 0.24008964, 0.19523025, 0.307452...   \n",
       "\n",
       "                                          chroma_cqt  \\\n",
       "0  [[0.09258408397838813, 0.29281937134384245, 0....   \n",
       "1  [[0.4335042444372439, 0.5997672061197934, 0.36...   \n",
       "\n",
       "                                         chroma_cens  \\\n",
       "0  [[0.22369786432146194, 0.22729126207787814, 0....   \n",
       "1  [[0.2991746992028136, 0.303567161079119, 0.307...   \n",
       "\n",
       "                                      melspectrogram  \\\n",
       "0  [[0.0, 0.0, 0.0, 0.0, 0.0016109014, 0.25045666...   \n",
       "1  [[0.019795934, 0.01764908, 0.014517155, 0.0464...   \n",
       "\n",
       "                                                mfcc  \\\n",
       "0  [[-657.38403, -657.38403, -657.38403, -657.384...   \n",
       "1  [[-393.32425, -358.65057, -305.81363, -292.944...   \n",
       "\n",
       "                                                 rms  \\\n",
       "0  [[0.0, 0.0, 0.0, 0.0, 0.0046520517, 0.03861855...   \n",
       "1  [[0.024666155, 0.03652693, 0.04397792, 0.05069...   \n",
       "\n",
       "                                   spectral_centroid  \\\n",
       "0  [[0.0, 0.0, 0.0, 0.0, 2015.3045826157543, 2313...   \n",
       "1  [[632.6626973078273, 697.5850027667651, 708.91...   \n",
       "\n",
       "                                  spectral_bandwidth  \\\n",
       "0  [[0.0, 0.0, 0.0, 0.0, 2615.098141918859, 2695....   \n",
       "1  [[1206.4440610764414, 1120.9771299846254, 1004...   \n",
       "\n",
       "                                   spectral_contrast  \\\n",
       "0  [[10.014450030697795, 10.014450030697795, 10.0...   \n",
       "1  [[13.59012782288142, 18.6156827850104, 17.3921...   \n",
       "\n",
       "                                   spectral_flatness  \\\n",
       "0  [[1.0000007, 1.0000007, 1.0000007, 1.0000007, ...   \n",
       "1  [[0.00010328917, 0.00030978382, 0.00022840177,...   \n",
       "\n",
       "                                    spectral_rolloff  \\\n",
       "0  [[0.0, 0.0, 0.0, 0.0, 5081.8359375, 5663.23242...   \n",
       "1  [[764.4287109375, 861.328125, 968.994140625, 9...   \n",
       "\n",
       "                                       poly_features  \\\n",
       "0  [[0.0, 0.0, 0.0, 0.0, -1.6424078469954708e-06,...   \n",
       "1  [[-8.54170786207522e-05, -8.969041815871419e-0...   \n",
       "\n",
       "                                             tonnetz  \\\n",
       "0  [[-0.28102570774648, -0.13740358999520996, -0....   \n",
       "1  [[-0.04785370478493173, 0.016290546483931523, ...   \n",
       "\n",
       "                                  zero_crossing_rate  \n",
       "0  [[0.0582312925170068, 0.060045351473922905, 0....  \n",
       "1  [[0.020045351473922904, 0.02145124716553288, 0...  "
      ]
     },
     "execution_count": 16,
     "metadata": {},
     "output_type": "execute_result"
    }
   ],
   "source": [
    "df.head()"
   ]
  },
  {
   "cell_type": "code",
   "execution_count": 40,
   "metadata": {},
   "outputs": [],
   "source": [
    "def normalize(x, axis=0):\n",
    "    return sklearn.preprocessing.minmax_scale(x, axis=axis)"
   ]
  },
  {
   "cell_type": "code",
   "execution_count": 41,
   "metadata": {},
   "outputs": [],
   "source": [
    "def view_spectral_centroid(feature):\n",
    "    frames = range(len(feature))\n",
    "    t = librosa.frames_to_time(frames)\n",
    "    normalized_feature = normalize(feature)\n",
    "#     print(normalized_feature)\n",
    "    plt.plot(t, feature, color='r')"
   ]
  },
  {
   "cell_type": "code",
   "execution_count": 47,
   "metadata": {
    "scrolled": true
   },
   "outputs": [
    {
     "data": {
      "image/png": "[encoded data removed]",
      "text/plain": [
       "<Figure size 432x288 with 1 Axes>"
      ]
     },
     "metadata": {
      "needs_background": "light"
     },
     "output_type": "display_data"
    }
   ],
   "source": [
    "# gunshot spectral_centroid\n",
    "view_spectral_centroid(df['spectral_centroid'][0][0])"
   ]
  },
  {
   "cell_type": "code",
   "execution_count": 48,
   "metadata": {},
   "outputs": [
    {
     "data": {
      "image/png": "[encoded data removed]",
      "text/plain": [
       "<Figure size 432x288 with 1 Axes>"
      ]
     },
     "metadata": {
      "needs_background": "light"
     },
     "output_type": "display_data"
    }
   ],
   "source": [
    "# gunshot spectral_centroid\n",
    "view_spectral_centroid(df['spectral_centroid'][1][0])"
   ]
  },
  {
   "cell_type": "code",
   "execution_count": null,
   "metadata": {},
   "outputs": [],
   "source": []
  }
 ],
 "metadata": {
  "kernelspec": {
   "display_name": "Python 3",
   "language": "python",
   "name": "python3"
  },
  "language_info": {
   "codemirror_mode": {
    "name": "ipython",
    "version": 3
   },
   "file_extension": ".py",
   "mimetype": "text/x-python",
   "name": "python",
   "nbconvert_exporter": "python",
   "pygments_lexer": "ipython3",
   "version": "3.7.7"
  }
 },
 "nbformat": 4,
 "nbformat_minor": 4
}
